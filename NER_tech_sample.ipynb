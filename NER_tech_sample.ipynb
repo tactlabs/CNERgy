{
 "cells": [
  {
   "cell_type": "markdown",
   "metadata": {
    "colab_type": "text",
    "id": "view-in-github"
   },
   "source": [
    "<a href=\"https://colab.research.google.com/github/tactlabs/CNERgy/blob/main/NERspacy_sample.ipynb\" target=\"_parent\"><img src=\"https://colab.research.google.com/assets/colab-badge.svg\" alt=\"Open In Colab\"/></a>"
   ]
  },
  {
   "cell_type": "code",
   "execution_count": 22,
   "metadata": {},
   "outputs": [
    {
     "name": "stdout",
     "output_type": "stream",
     "text": [
      "Name: spacy\n",
      "Version: 3.1.2\n",
      "Summary: Industrial-strength Natural Language Processing (NLP) in Python\n",
      "Home-page: https://spacy.io\n",
      "Author: Explosion\n",
      "Author-email: contact@explosion.ai\n",
      "License: MIT\n",
      "Location: /Users/rajacsp/opt/anaconda3/envs/ml38/lib/python3.8/site-packages\n",
      "Requires: spacy-legacy, thinc, pathy, preshed, murmurhash, tqdm, jinja2, catalogue, srsly, wasabi, setuptools, typer, pydantic, blis, requests, cymem, packaging, numpy\n",
      "Required-by: en-core-web-md\n"
     ]
    }
   ],
   "source": [
    "!pip show spacy"
   ]
  },
  {
   "cell_type": "code",
   "execution_count": 1,
   "metadata": {},
   "outputs": [
    {
     "name": "stdout",
     "output_type": "stream",
     "text": [
      "Requirement already satisfied: spacy in /usr/local/lib/python3.9/site-packages (3.1.3)\n",
      "Requirement already satisfied: requests<3.0.0,>=2.13.0 in /usr/local/lib/python3.9/site-packages (from spacy) (2.25.1)\n",
      "Requirement already satisfied: typer<0.5.0,>=0.3.0 in /usr/local/lib/python3.9/site-packages (from spacy) (0.4.0)\n",
      "Requirement already satisfied: setuptools in /usr/local/lib/python3.9/site-packages (from spacy) (57.0.0)\n",
      "Requirement already satisfied: numpy>=1.15.0 in /usr/local/lib/python3.9/site-packages (from spacy) (1.20.2)\n",
      "Requirement already satisfied: murmurhash<1.1.0,>=0.28.0 in /usr/local/lib/python3.9/site-packages (from spacy) (1.0.5)\n",
      "Requirement already satisfied: pydantic!=1.8,!=1.8.1,<1.9.0,>=1.7.4 in /usr/local/lib/python3.9/site-packages (from spacy) (1.8.2)\n",
      "Requirement already satisfied: tqdm<5.0.0,>=4.38.0 in /usr/local/lib/python3.9/site-packages (from spacy) (4.51.0)\n",
      "Requirement already satisfied: pathy>=0.3.5 in /usr/local/lib/python3.9/site-packages (from spacy) (0.6.0)\n",
      "Requirement already satisfied: blis<0.8.0,>=0.4.0 in /usr/local/lib/python3.9/site-packages (from spacy) (0.7.4)\n",
      "Requirement already satisfied: srsly<3.0.0,>=2.4.1 in /usr/local/lib/python3.9/site-packages (from spacy) (2.4.1)\n",
      "Requirement already satisfied: cymem<2.1.0,>=2.0.2 in /usr/local/lib/python3.9/site-packages (from spacy) (2.0.5)\n",
      "Requirement already satisfied: jinja2 in /usr/local/lib/python3.9/site-packages (from spacy) (2.11.2)\n",
      "Requirement already satisfied: thinc<8.1.0,>=8.0.9 in /usr/local/lib/python3.9/site-packages (from spacy) (8.0.10)\n",
      "Requirement already satisfied: preshed<3.1.0,>=3.0.2 in /usr/local/lib/python3.9/site-packages (from spacy) (3.0.5)\n",
      "Requirement already satisfied: wasabi<1.1.0,>=0.8.1 in /usr/local/lib/python3.9/site-packages (from spacy) (0.8.2)\n",
      "Requirement already satisfied: packaging>=20.0 in /usr/local/lib/python3.9/site-packages (from spacy) (20.9)\n",
      "Requirement already satisfied: catalogue<2.1.0,>=2.0.6 in /usr/local/lib/python3.9/site-packages (from spacy) (2.0.6)\n",
      "Requirement already satisfied: spacy-legacy<3.1.0,>=3.0.8 in /usr/local/lib/python3.9/site-packages (from spacy) (3.0.8)\n",
      "Requirement already satisfied: pyparsing>=2.0.2 in /usr/local/lib/python3.9/site-packages (from packaging>=20.0->spacy) (2.4.7)\n",
      "Requirement already satisfied: smart-open<6.0.0,>=5.0.0 in /usr/local/lib/python3.9/site-packages (from pathy>=0.3.5->spacy) (5.2.1)\n",
      "Requirement already satisfied: typing-extensions>=3.7.4.3 in /usr/local/lib/python3.9/site-packages (from pydantic!=1.8,!=1.8.1,<1.9.0,>=1.7.4->spacy) (3.10.0.2)\n",
      "Requirement already satisfied: certifi>=2017.4.17 in /usr/local/lib/python3.9/site-packages (from requests<3.0.0,>=2.13.0->spacy) (2020.12.5)\n",
      "Requirement already satisfied: urllib3<1.27,>=1.21.1 in /usr/local/lib/python3.9/site-packages (from requests<3.0.0,>=2.13.0->spacy) (1.26.4)\n",
      "Requirement already satisfied: idna<3,>=2.5 in /usr/local/lib/python3.9/site-packages (from requests<3.0.0,>=2.13.0->spacy) (2.10)\n",
      "Requirement already satisfied: chardet<5,>=3.0.2 in /usr/local/lib/python3.9/site-packages (from requests<3.0.0,>=2.13.0->spacy) (4.0.0)\n",
      "Requirement already satisfied: click<9.0.0,>=7.1.1 in /usr/local/lib/python3.9/site-packages (from typer<0.5.0,>=0.3.0->spacy) (7.1.2)\n",
      "Requirement already satisfied: MarkupSafe>=0.23 in /usr/local/lib/python3.9/site-packages (from jinja2->spacy) (1.1.1)\n",
      "\u001b[33mWARNING: You are using pip version 21.1.3; however, version 21.2.4 is available.\n",
      "You should consider upgrading via the '/usr/local/opt/python@3.9/bin/python3.9 -m pip install --upgrade pip' command.\u001b[0m\n"
     ]
    }
   ],
   "source": [
    " !pip3 install spacy"
   ]
  },
  {
   "cell_type": "code",
   "execution_count": 2,
   "metadata": {},
   "outputs": [],
   "source": [
    "import spacy"
   ]
  },
  {
   "cell_type": "code",
   "execution_count": 6,
   "metadata": {
    "colab": {
     "base_uri": "https://localhost:8080/"
    },
    "id": "NAkud4lu3IKy",
    "outputId": "1604afa3-4cca-4b70-c2eb-480df6fd2963"
   },
   "outputs": [
    {
     "name": "stdout",
     "output_type": "stream",
     "text": [
      "Collecting en-core-web-md==3.1.0\n",
      "  Downloading https://github.com/explosion/spacy-models/releases/download/en_core_web_md-3.1.0/en_core_web_md-3.1.0-py3-none-any.whl (45.4 MB)\n",
      "\u001b[K     |████████████████████████████████| 45.4 MB 116 kB/s eta 0:00:01\n",
      "\u001b[?25hRequirement already satisfied: spacy<3.2.0,>=3.1.0 in /usr/local/lib/python3.9/site-packages (from en-core-web-md==3.1.0) (3.1.3)\n",
      "Requirement already satisfied: typer<0.5.0,>=0.3.0 in /usr/local/lib/python3.9/site-packages (from spacy<3.2.0,>=3.1.0->en-core-web-md==3.1.0) (0.4.0)\n",
      "Requirement already satisfied: jinja2 in /usr/local/lib/python3.9/site-packages (from spacy<3.2.0,>=3.1.0->en-core-web-md==3.1.0) (2.11.2)\n",
      "Requirement already satisfied: catalogue<2.1.0,>=2.0.6 in /usr/local/lib/python3.9/site-packages (from spacy<3.2.0,>=3.1.0->en-core-web-md==3.1.0) (2.0.6)\n",
      "Requirement already satisfied: preshed<3.1.0,>=3.0.2 in /usr/local/lib/python3.9/site-packages (from spacy<3.2.0,>=3.1.0->en-core-web-md==3.1.0) (3.0.5)\n",
      "Requirement already satisfied: requests<3.0.0,>=2.13.0 in /usr/local/lib/python3.9/site-packages (from spacy<3.2.0,>=3.1.0->en-core-web-md==3.1.0) (2.25.1)\n",
      "Requirement already satisfied: spacy-legacy<3.1.0,>=3.0.8 in /usr/local/lib/python3.9/site-packages (from spacy<3.2.0,>=3.1.0->en-core-web-md==3.1.0) (3.0.8)\n",
      "Requirement already satisfied: packaging>=20.0 in /usr/local/lib/python3.9/site-packages (from spacy<3.2.0,>=3.1.0->en-core-web-md==3.1.0) (20.9)\n",
      "Requirement already satisfied: numpy>=1.15.0 in /usr/local/lib/python3.9/site-packages (from spacy<3.2.0,>=3.1.0->en-core-web-md==3.1.0) (1.20.2)\n",
      "Requirement already satisfied: wasabi<1.1.0,>=0.8.1 in /usr/local/lib/python3.9/site-packages (from spacy<3.2.0,>=3.1.0->en-core-web-md==3.1.0) (0.8.2)\n",
      "Requirement already satisfied: pathy>=0.3.5 in /usr/local/lib/python3.9/site-packages (from spacy<3.2.0,>=3.1.0->en-core-web-md==3.1.0) (0.6.0)\n",
      "Requirement already satisfied: blis<0.8.0,>=0.4.0 in /usr/local/lib/python3.9/site-packages (from spacy<3.2.0,>=3.1.0->en-core-web-md==3.1.0) (0.7.4)\n",
      "Requirement already satisfied: thinc<8.1.0,>=8.0.9 in /usr/local/lib/python3.9/site-packages (from spacy<3.2.0,>=3.1.0->en-core-web-md==3.1.0) (8.0.10)\n",
      "Requirement already satisfied: srsly<3.0.0,>=2.4.1 in /usr/local/lib/python3.9/site-packages (from spacy<3.2.0,>=3.1.0->en-core-web-md==3.1.0) (2.4.1)\n",
      "Requirement already satisfied: tqdm<5.0.0,>=4.38.0 in /usr/local/lib/python3.9/site-packages (from spacy<3.2.0,>=3.1.0->en-core-web-md==3.1.0) (4.51.0)\n",
      "Requirement already satisfied: pydantic!=1.8,!=1.8.1,<1.9.0,>=1.7.4 in /usr/local/lib/python3.9/site-packages (from spacy<3.2.0,>=3.1.0->en-core-web-md==3.1.0) (1.8.2)\n",
      "Requirement already satisfied: cymem<2.1.0,>=2.0.2 in /usr/local/lib/python3.9/site-packages (from spacy<3.2.0,>=3.1.0->en-core-web-md==3.1.0) (2.0.5)\n",
      "Requirement already satisfied: setuptools in /usr/local/lib/python3.9/site-packages (from spacy<3.2.0,>=3.1.0->en-core-web-md==3.1.0) (57.0.0)\n",
      "Requirement already satisfied: murmurhash<1.1.0,>=0.28.0 in /usr/local/lib/python3.9/site-packages (from spacy<3.2.0,>=3.1.0->en-core-web-md==3.1.0) (1.0.5)\n",
      "Requirement already satisfied: pyparsing>=2.0.2 in /usr/local/lib/python3.9/site-packages (from packaging>=20.0->spacy<3.2.0,>=3.1.0->en-core-web-md==3.1.0) (2.4.7)\n",
      "Requirement already satisfied: smart-open<6.0.0,>=5.0.0 in /usr/local/lib/python3.9/site-packages (from pathy>=0.3.5->spacy<3.2.0,>=3.1.0->en-core-web-md==3.1.0) (5.2.1)\n",
      "Requirement already satisfied: typing-extensions>=3.7.4.3 in /usr/local/lib/python3.9/site-packages (from pydantic!=1.8,!=1.8.1,<1.9.0,>=1.7.4->spacy<3.2.0,>=3.1.0->en-core-web-md==3.1.0) (3.10.0.2)\n",
      "Requirement already satisfied: urllib3<1.27,>=1.21.1 in /usr/local/lib/python3.9/site-packages (from requests<3.0.0,>=2.13.0->spacy<3.2.0,>=3.1.0->en-core-web-md==3.1.0) (1.26.4)\n",
      "Requirement already satisfied: idna<3,>=2.5 in /usr/local/lib/python3.9/site-packages (from requests<3.0.0,>=2.13.0->spacy<3.2.0,>=3.1.0->en-core-web-md==3.1.0) (2.10)\n",
      "Requirement already satisfied: certifi>=2017.4.17 in /usr/local/lib/python3.9/site-packages (from requests<3.0.0,>=2.13.0->spacy<3.2.0,>=3.1.0->en-core-web-md==3.1.0) (2020.12.5)\n",
      "Requirement already satisfied: chardet<5,>=3.0.2 in /usr/local/lib/python3.9/site-packages (from requests<3.0.0,>=2.13.0->spacy<3.2.0,>=3.1.0->en-core-web-md==3.1.0) (4.0.0)\n",
      "Requirement already satisfied: click<9.0.0,>=7.1.1 in /usr/local/lib/python3.9/site-packages (from typer<0.5.0,>=0.3.0->spacy<3.2.0,>=3.1.0->en-core-web-md==3.1.0) (7.1.2)\n",
      "Requirement already satisfied: MarkupSafe>=0.23 in /usr/local/lib/python3.9/site-packages (from jinja2->spacy<3.2.0,>=3.1.0->en-core-web-md==3.1.0) (1.1.1)\n",
      "Installing collected packages: en-core-web-md\n",
      "Successfully installed en-core-web-md-3.1.0\n",
      "\u001b[33mWARNING: You are using pip version 21.1.3; however, version 21.2.4 is available.\n",
      "You should consider upgrading via the '/usr/local/opt/python@3.9/bin/python3.9 -m pip install --upgrade pip' command.\u001b[0m\n",
      "\u001b[38;5;2m✔ Download and installation successful\u001b[0m\n",
      "You can now load the package via spacy.load('en_core_web_md')\n"
     ]
    }
   ],
   "source": [
    "!python3 -m spacy download en_core_web_md"
   ]
  },
  {
   "cell_type": "code",
   "execution_count": null,
   "metadata": {},
   "outputs": [],
   "source": []
  },
  {
   "cell_type": "code",
   "execution_count": 16,
   "metadata": {
    "colab": {
     "base_uri": "https://localhost:8080/"
    },
    "id": "FC6ILYgOM5ZZ",
    "outputId": "4b9026c2-70ac-4c36-c927-7909c82a2633"
   },
   "outputs": [],
   "source": [
    "#pip uninstall spacy"
   ]
  },
  {
   "cell_type": "code",
   "execution_count": 17,
   "metadata": {
    "colab": {
     "base_uri": "https://localhost:8080/"
    },
    "id": "H3ZI27Y0NPtU",
    "outputId": "2ec7bd7b-a9ca-44e3-da36-d80758b1ceb5"
   },
   "outputs": [],
   "source": [
    "# pip install spacy"
   ]
  },
  {
   "cell_type": "code",
   "execution_count": 26,
   "metadata": {
    "colab": {
     "base_uri": "https://localhost:8080/"
    },
    "id": "oTruBo2iNHit",
    "outputId": "50811614-2738-476a-86f2-0a9d4b2d2c90"
   },
   "outputs": [],
   "source": [
    "# !python -m spacy project clone \"tutorials/ner_tech\""
   ]
  },
  {
   "cell_type": "code",
   "execution_count": 30,
   "metadata": {
    "colab": {
     "base_uri": "https://localhost:8080/"
    },
    "id": "ojXwPOn_5pd1",
    "outputId": "8044b538-530d-491c-c05a-ce1308274378"
   },
   "outputs": [
    {
     "name": "stdout",
     "output_type": "stream",
     "text": [
      "\u001b[38;5;4mℹ Fetching 3 asset(s)\u001b[0m\n",
      "\u001b[38;5;2m✔ Asset already exists:\n",
      "/Users/rajacsp/d/kaipulla_space/CNERgy/ner_tech/assets/tech_training.jsonl\u001b[0m\n",
      "\u001b[38;5;2m✔ Asset already exists:\n",
      "/Users/rajacsp/d/kaipulla_space/CNERgy/ner_tech/assets/tech_eval.jsonl\u001b[0m\n",
      "\u001b[38;5;2m✔ Asset already exists:\n",
      "/Users/rajacsp/d/kaipulla_space/CNERgy/ner_tech/assets/tech_patterns.jsonl\u001b[0m\n"
     ]
    }
   ],
   "source": [
    "!python -m spacy project assets \"ner_tech/\""
   ]
  },
  {
   "cell_type": "code",
   "execution_count": 3,
   "metadata": {
    "colab": {
     "base_uri": "https://localhost:8080/"
    },
    "id": "pwUqD8U-51x5",
    "outputId": "882642c0-2a86-472a-b80b-b6e06a66c762"
   },
   "outputs": [
    {
     "name": "stdout",
     "output_type": "stream",
     "text": [
      "\u001b[1m\n",
      "================================= preprocess =================================\u001b[0m\n",
      "Running command: /usr/local/opt/python@3.9/bin/python3.9 scripts/preprocess.py assets/tech_training.jsonl corpus/tech_training.spacy\n",
      "Processed 8 documents: tech_training.spacy\n",
      "Running command: /usr/local/opt/python@3.9/bin/python3.9 scripts/preprocess.py assets/tech_eval.jsonl corpus/tech_eval.spacy\n",
      "Processed 8 documents: tech_eval.spacy\n"
     ]
    }
   ],
   "source": [
    "!python3 -m spacy project run  preprocess \"ner_tech/\""
   ]
  },
  {
   "cell_type": "code",
   "execution_count": null,
   "metadata": {
    "colab": {
     "base_uri": "https://localhost:8080/"
    },
    "id": "GaXRphoo66wB",
    "outputId": "6e487293-7231-41a7-8eb2-eed931eb087b"
   },
   "outputs": [
    {
     "name": "stdout",
     "output_type": "stream",
     "text": [
      "\u001b[1m\n",
      "=================================== train ===================================\u001b[0m\n",
      "Running command: /usr/local/opt/python@3.9/bin/python3.9 -m spacy train configs/config.cfg --output training/ --paths.train corpus/tech_training.spacy --paths.dev corpus/tech_eval.spacy --paths.vectors en_core_web_md\n",
      "\u001b[38;5;4mℹ Saving to output directory: training\u001b[0m\n",
      "\u001b[38;5;4mℹ Using CPU\u001b[0m\n",
      "\u001b[1m\n",
      "=========================== Initializing pipeline ===========================\u001b[0m\n",
      "[2021-09-26 20:09:28,568] [INFO] Set up nlp object from config\n",
      "[2021-09-26 20:09:28,578] [INFO] Pipeline: ['tok2vec', 'ner']\n",
      "[2021-09-26 20:09:28,582] [INFO] Created vocabulary\n",
      "[2021-09-26 20:09:31,019] [INFO] Added vectors: en_core_web_md\n",
      "[2021-09-26 20:09:31,192] [INFO] Finished initializing nlp object\n",
      "[2021-09-26 20:09:31,627] [INFO] Initialized pipeline components: ['tok2vec', 'ner']\n",
      "\u001b[38;5;2m✔ Initialized pipeline\u001b[0m\n",
      "\u001b[1m\n",
      "============================= Training pipeline =============================\u001b[0m\n",
      "\u001b[38;5;4mℹ Pipeline: ['tok2vec', 'ner']\u001b[0m\n",
      "\u001b[38;5;4mℹ Initial learn rate: 0.0\u001b[0m\n",
      "E    #       LOSS TOK2VEC  LOSS NER  ENTS_F  ENTS_P  ENTS_R  SCORE \n",
      "---  ------  ------------  --------  ------  ------  ------  ------\n",
      "  0       0          0.00    209.44    0.00    0.00    0.00    0.00\n",
      " 40     200         66.49  72589.55    0.00    0.00    0.00    0.00\n",
      " 80     400         98.73   6582.52    0.00    0.00    0.00    0.00\n",
      "120     600         34.73   1165.64   88.24   90.91   85.71    0.88\n",
      "160     800         36.87    405.66   91.18   93.94   88.57    0.91\n",
      "200    1000         46.91    275.28   91.18   93.94   88.57    0.91\n",
      "240    1200         66.76    235.81   91.18   93.94   88.57    0.91\n",
      "280    1400         82.95    225.83   91.18   93.94   88.57    0.91\n",
      "320    1600         94.43    228.79   91.18   93.94   88.57    0.91\n",
      "360    1800        107.49    228.87   91.18   93.94   88.57    0.91\n",
      "400    2000        113.15    232.63   91.18   93.94   88.57    0.91\n",
      "440    2200        112.85    231.99   91.18   93.94   88.57    0.91\n"
     ]
    }
   ],
   "source": [
    "!python3 -m spacy project run  train \"ner_tech/\""
   ]
  },
  {
   "cell_type": "code",
   "execution_count": 10,
   "metadata": {
    "colab": {
     "base_uri": "https://localhost:8080/"
    },
    "id": "pvrWZS0a8xyE",
    "outputId": "c1f5bf45-19ee-41f7-d2ee-8479b3bf072d"
   },
   "outputs": [
    {
     "name": "stdout",
     "output_type": "stream",
     "text": [
      "\u001b[1m\n",
      "================================== evaluate ==================================\u001b[0m\n",
      "Running command: /Users/rajacsp/opt/anaconda3/envs/ml38/bin/python -m spacy evaluate training/model-best corpus/tech_eval.spacy --output training/metrics.json\n",
      "\u001b[38;5;4mℹ Using CPU\u001b[0m\n",
      "\u001b[1m\n",
      "================================== Results ==================================\u001b[0m\n",
      "\n",
      "TOK     99.90\n",
      "NER P   93.94\n",
      "NER R   88.57\n",
      "NER F   91.18\n",
      "SPEED   26398\n",
      "\n",
      "\u001b[1m\n",
      "=============================== NER (per type) ===============================\u001b[0m\n",
      "\n",
      "               P       R       F\n",
      "ADSFADSF    0.00    0.00    0.00\n",
      "DFSFD       0.00    0.00    0.00\n",
      "ADSFASDF    0.00    0.00    0.00\n",
      "TECH       93.94   96.88   95.38\n",
      "\n",
      "\u001b[38;5;2m✔ Saved results to training/metrics.json\u001b[0m\n"
     ]
    }
   ],
   "source": [
    "!python -m spacy project run  evaluate \"ner_tech/\""
   ]
  },
  {
   "cell_type": "code",
   "execution_count": 11,
   "metadata": {},
   "outputs": [],
   "source": [
    "nlp1 = spacy.load(r\"ner_tech/training/model-best\") #load the best model"
   ]
  },
  {
   "cell_type": "code",
   "execution_count": 13,
   "metadata": {
    "colab": {
     "base_uri": "https://localhost:8080/",
     "height": 261
    },
    "id": "rwktzHA5B_u3",
    "outputId": "6f6a9bed-ef16-4204-bee5-7a7604a67113"
   },
   "outputs": [
    {
     "data": {
      "text/html": [
       "<span class=\"tex2jax_ignore\"><div class=\"entities\" style=\"line-height: 2.5; direction: ltr\">We are looking for a \n",
       "<mark class=\"entity\" style=\"background: #ddd; padding: 0.45em 0.6em; margin: 0 0.25em; line-height: 1; border-radius: 0.35em;\">\n",
       "    Machine\n",
       "    <span style=\"font-size: 0.8em; font-weight: bold; line-height: 1; border-radius: 0.35em; vertical-align: middle; margin-left: 0.5rem\">TECH</span>\n",
       "</mark>\n",
       " Learning Engineer who will be responsible for the development of algorithms, which will form the basis for our mathematical</div></span>"
      ],
      "text/plain": [
       "<IPython.core.display.HTML object>"
      ]
     },
     "metadata": {},
     "output_type": "display_data"
    }
   ],
   "source": [
    "doc = nlp1(\"We are looking for a Machine Learning Engineer who will be responsible for the development of algorithms, which will form the basis for our mathematical\") # input sample text\n",
    "spacy.displacy.render(doc, style='ent', jupyter=True) # display in Jupyter\n",
    "\n",
    "# nlp = spacy.load(“training”)"
   ]
  },
  {
   "cell_type": "code",
   "execution_count": 14,
   "metadata": {},
   "outputs": [
    {
     "data": {
      "text/html": [
       "<span class=\"tex2jax_ignore\"><div class=\"entities\" style=\"line-height: 2.5; direction: ltr\">We are looking for a \n",
       "<mark class=\"entity\" style=\"background: #ddd; padding: 0.45em 0.6em; margin: 0 0.25em; line-height: 1; border-radius: 0.35em;\">\n",
       "    Machine\n",
       "    <span style=\"font-size: 0.8em; font-weight: bold; line-height: 1; border-radius: 0.35em; vertical-align: middle; margin-left: 0.5rem\">TECH</span>\n",
       "</mark>\n",
       " Learning Engineer who will be responsible for the development of algorithms, which will form the basis for our mathematical models to automate trading platforms for sports betting markets. The candidate must have a strong background in Machine Learning, Statistics and Algorithm Development experience.</br></br>Our ideal candidate should have:</br></br>Degree or Diploma in Computer Science, Software Engineering, \n",
       "<mark class=\"entity\" style=\"background: #ddd; padding: 0.45em 0.6em; margin: 0 0.25em; line-height: 1; border-radius: 0.35em;\">\n",
       "    Computational\n",
       "    <span style=\"font-size: 0.8em; font-weight: bold; line-height: 1; border-radius: 0.35em; vertical-align: middle; margin-left: 0.5rem\">TECH</span>\n",
       "</mark>\n",
       " Statistics or equivalent degree or experience. MS or PHD in Computer Science, specializing in Machine Learning is desirable.</br>Minimum 3 years of relevant experience with \n",
       "<mark class=\"entity\" style=\"background: #ddd; padding: 0.45em 0.6em; margin: 0 0.25em; line-height: 1; border-radius: 0.35em;\">\n",
       "    statistical\n",
       "    <span style=\"font-size: 0.8em; font-weight: bold; line-height: 1; border-radius: 0.35em; vertical-align: middle; margin-left: 0.5rem\">TECH</span>\n",
       "</mark>\n",
       " computing in \n",
       "<mark class=\"entity\" style=\"background: #ddd; padding: 0.45em 0.6em; margin: 0 0.25em; line-height: 1; border-radius: 0.35em;\">\n",
       "    R\n",
       "    <span style=\"font-size: 0.8em; font-weight: bold; line-height: 1; border-radius: 0.35em; vertical-align: middle; margin-left: 0.5rem\">TECH</span>\n",
       "</mark>\n",
       " or \n",
       "<mark class=\"entity\" style=\"background: #ddd; padding: 0.45em 0.6em; margin: 0 0.25em; line-height: 1; border-radius: 0.35em;\">\n",
       "    Python.\n",
       "    <span style=\"font-size: 0.8em; font-weight: bold; line-height: 1; border-radius: 0.35em; vertical-align: middle; margin-left: 0.5rem\">TECH</span>\n",
       "</mark>\n",
       " (Experience with modern R packages and technologies such as \n",
       "<mark class=\"entity\" style=\"background: #ddd; padding: 0.45em 0.6em; margin: 0 0.25em; line-height: 1; border-radius: 0.35em;\">\n",
       "    dplyr\n",
       "    <span style=\"font-size: 0.8em; font-weight: bold; line-height: 1; border-radius: 0.35em; vertical-align: middle; margin-left: 0.5rem\">TECH</span>\n",
       "</mark>\n",
       ", \n",
       "<mark class=\"entity\" style=\"background: #ddd; padding: 0.45em 0.6em; margin: 0 0.25em; line-height: 1; border-radius: 0.35em;\">\n",
       "    tidyR\n",
       "    <span style=\"font-size: 0.8em; font-weight: bold; line-height: 1; border-radius: 0.35em; vertical-align: middle; margin-left: 0.5rem\">TECH</span>\n",
       "</mark>\n",
       ", data.table, \n",
       "<mark class=\"entity\" style=\"background: #ddd; padding: 0.45em 0.6em; margin: 0 0.25em; line-height: 1; border-radius: 0.35em;\">\n",
       "    shinyR\n",
       "    <span style=\"font-size: 0.8em; font-weight: bold; line-height: 1; border-radius: 0.35em; vertical-align: middle; margin-left: 0.5rem\">TECH</span>\n",
       "</mark>\n",
       " preferred).</br>Minimum 3 years of experience with Machine Learning algorithms and Probabilistic Modelling.</br>Strong background in statistics, preferably Bayesian Statistics — experience with \n",
       "<mark class=\"entity\" style=\"background: #ddd; padding: 0.45em 0.6em; margin: 0 0.25em; line-height: 1; border-radius: 0.35em;\">\n",
       "    Bayesian\n",
       "    <span style=\"font-size: 0.8em; font-weight: bold; line-height: 1; border-radius: 0.35em; vertical-align: middle; margin-left: 0.5rem\">TECH</span>\n",
       "</mark>\n",
       " Inference using Statistical Languages for \n",
       "<mark class=\"entity\" style=\"background: #ddd; padding: 0.45em 0.6em; margin: 0 0.25em; line-height: 1; border-radius: 0.35em;\">\n",
       "    MCMC\n",
       "    <span style=\"font-size: 0.8em; font-weight: bold; line-height: 1; border-radius: 0.35em; vertical-align: middle; margin-left: 0.5rem\">TECH</span>\n",
       "</mark>\n",
       " such as \n",
       "<mark class=\"entity\" style=\"background: #ddd; padding: 0.45em 0.6em; margin: 0 0.25em; line-height: 1; border-radius: 0.35em;\">\n",
       "    Stan\n",
       "    <span style=\"font-size: 0.8em; font-weight: bold; line-height: 1; border-radius: 0.35em; vertical-align: middle; margin-left: 0.5rem\">TECH</span>\n",
       "</mark>\n",
       ", \n",
       "<mark class=\"entity\" style=\"background: #ddd; padding: 0.45em 0.6em; margin: 0 0.25em; line-height: 1; border-radius: 0.35em;\">\n",
       "    JAGS\n",
       "    <span style=\"font-size: 0.8em; font-weight: bold; line-height: 1; border-radius: 0.35em; vertical-align: middle; margin-left: 0.5rem\">TECH</span>\n",
       "</mark>\n",
       ", \n",
       "<mark class=\"entity\" style=\"background: #ddd; padding: 0.45em 0.6em; margin: 0 0.25em; line-height: 1; border-radius: 0.35em;\">\n",
       "    WinBugs\n",
       "    <span style=\"font-size: 0.8em; font-weight: bold; line-height: 1; border-radius: 0.35em; vertical-align: middle; margin-left: 0.5rem\">TECH</span>\n",
       "</mark>\n",
       " is a big plus.</br>Experience with \n",
       "<mark class=\"entity\" style=\"background: #ddd; padding: 0.45em 0.6em; margin: 0 0.25em; line-height: 1; border-radius: 0.35em;\">\n",
       "    SQL\n",
       "    <span style=\"font-size: 0.8em; font-weight: bold; line-height: 1; border-radius: 0.35em; vertical-align: middle; margin-left: 0.5rem\">TECH</span>\n",
       "</mark>\n",
       " and \n",
       "<mark class=\"entity\" style=\"background: #ddd; padding: 0.45em 0.6em; margin: 0 0.25em; line-height: 1; border-radius: 0.35em;\">\n",
       "    SQL\n",
       "    <span style=\"font-size: 0.8em; font-weight: bold; line-height: 1; border-radius: 0.35em; vertical-align: middle; margin-left: 0.5rem\">TECH</span>\n",
       "</mark>\n",
       " Server.</br>Experience with \n",
       "<mark class=\"entity\" style=\"background: #ddd; padding: 0.45em 0.6em; margin: 0 0.25em; line-height: 1; border-radius: 0.35em;\">\n",
       "    .NET\n",
       "    <span style=\"font-size: 0.8em; font-weight: bold; line-height: 1; border-radius: 0.35em; vertical-align: middle; margin-left: 0.5rem\">TECH</span>\n",
       "</mark>\n",
       " Framework and \n",
       "<mark class=\"entity\" style=\"background: #ddd; padding: 0.45em 0.6em; margin: 0 0.25em; line-height: 1; border-radius: 0.35em;\">\n",
       "    C\n",
       "    <span style=\"font-size: 0.8em; font-weight: bold; line-height: 1; border-radius: 0.35em; vertical-align: middle; margin-left: 0.5rem\">TECH</span>\n",
       "</mark>\n",
       "# is preferable.</br>Experience using cloud computing platforms such as \n",
       "<mark class=\"entity\" style=\"background: #ddd; padding: 0.45em 0.6em; margin: 0 0.25em; line-height: 1; border-radius: 0.35em;\">\n",
       "    EC2\n",
       "    <span style=\"font-size: 0.8em; font-weight: bold; line-height: 1; border-radius: 0.35em; vertical-align: middle; margin-left: 0.5rem\">TECH</span>\n",
       "</mark>\n",
       " (AWS).</br>Domain experience in on-line gaming and entertainment industry, Financial Markets (such as Stock Exchange, Options, Bonds, Forex, etc.), or other types of 2-sided markets.</br>Experience with \n",
       "<mark class=\"entity\" style=\"background: #ddd; padding: 0.45em 0.6em; margin: 0 0.25em; line-height: 1; border-radius: 0.35em;\">\n",
       "    Neural\n",
       "    <span style=\"font-size: 0.8em; font-weight: bold; line-height: 1; border-radius: 0.35em; vertical-align: middle; margin-left: 0.5rem\">TECH</span>\n",
       "</mark>\n",
       " Networks or \n",
       "<mark class=\"entity\" style=\"background: #ddd; padding: 0.45em 0.6em; margin: 0 0.25em; line-height: 1; border-radius: 0.35em;\">\n",
       "    Deep\n",
       "    <span style=\"font-size: 0.8em; font-weight: bold; line-height: 1; border-radius: 0.35em; vertical-align: middle; margin-left: 0.5rem\">TECH</span>\n",
       "</mark>\n",
       " Learning on large problems – a plus.</br>Experience with \n",
       "<mark class=\"entity\" style=\"background: #ddd; padding: 0.45em 0.6em; margin: 0 0.25em; line-height: 1; border-radius: 0.35em;\">\n",
       "    Hadoop\n",
       "    <span style=\"font-size: 0.8em; font-weight: bold; line-height: 1; border-radius: 0.35em; vertical-align: middle; margin-left: 0.5rem\">TECH</span>\n",
       "</mark>\n",
       ", \n",
       "<mark class=\"entity\" style=\"background: #ddd; padding: 0.45em 0.6em; margin: 0 0.25em; line-height: 1; border-radius: 0.35em;\">\n",
       "    Map\n",
       "    <span style=\"font-size: 0.8em; font-weight: bold; line-height: 1; border-radius: 0.35em; vertical-align: middle; margin-left: 0.5rem\">TECH</span>\n",
       "</mark>\n",
       " Reduce or High Performance Computing – a plus.</br>We offer:</br></br>An environment passionate about growth and learning</br>Competitive salary with bonus</br>Fitness subsidy program</br>Free beverages in the office</br>Workplace that is conveniently located along the Yonge/Sheppard line</br>What we are looking for:</br></br>This is a key role within the team and would suit someone who is passionate about working with data and building predictive models. We are looking for someone with strong background in statistics, modelling and algorithms (machine learning or other) and who has the ability to convey complex information through data visualization. Strong communication in both verbal and written is required. We are also looking for someone with strong analytical, conceptual, and problem-solving abilities with attention to detail, has ability to multi-task, and manage multiple assignments in a fast-paced environment. This individual must have initiative to work independently, but also able to work effectively with team members in different locations. Flexibility and adaptability to business requirements and priority changes a must. A thorough understanding and passion for sports and sports betting markets is ideal. Experience working with dual markets is a preferred. Experience with cloud computing as well as python a plus. Experience with development highly preferred.</br></br>The above is intended to describe the general nature and level of work being performed. They are not intended to be an exhaustive list of all responsibilities, duties and skills required. For a full description, please contact us directly.</br></br>Crescendo Technology thanks all candidates applying but only those selected for an interview will be contacted. Selected candidates may be asked to complete an on-line technical assessment.</br></br>Crescendo Technology is an equal opportunity employer, which values diversity in the workplace, and we encourage candidates. Should you require an accommodation for the recruitment or interview process, please do not hesitate to reach out to us.</br></div></span>"
      ],
      "text/plain": [
       "<IPython.core.display.HTML object>"
      ]
     },
     "metadata": {},
     "output_type": "display_data"
    },
    {
     "name": "stdout",
     "output_type": "stream",
     "text": [
      "Machine TECH\n",
      "Computational TECH\n",
      "statistical TECH\n",
      "R TECH\n",
      "Python. TECH\n",
      "dplyr TECH\n",
      "tidyR TECH\n",
      "shinyR TECH\n",
      "Bayesian TECH\n",
      "MCMC TECH\n",
      "Stan TECH\n",
      "JAGS TECH\n",
      "WinBugs TECH\n",
      "SQL TECH\n",
      "SQL TECH\n",
      ".NET TECH\n",
      "C TECH\n",
      "EC2 TECH\n",
      "Neural TECH\n",
      "Deep TECH\n",
      "Hadoop TECH\n",
      "Map TECH\n"
     ]
    }
   ],
   "source": [
    "# Process whole documents\n",
    "text = ('''We are looking for a Machine Learning Engineer who will be responsible for the development of algorithms, which will form the basis for our mathematical models to automate trading platforms for sports betting markets. The candidate must have a strong background in Machine Learning, Statistics and Algorithm Development experience.\n",
    "\n",
    "Our ideal candidate should have:\n",
    "\n",
    "Degree or Diploma in Computer Science, Software Engineering, Computational Statistics or equivalent degree or experience. MS or PHD in Computer Science, specializing in Machine Learning is desirable.\n",
    "Minimum 3 years of relevant experience with statistical computing in R or Python. (Experience with modern R packages and technologies such as dplyr, tidyR, data.table, shinyR preferred).\n",
    "Minimum 3 years of experience with Machine Learning algorithms and Probabilistic Modelling.\n",
    "Strong background in statistics, preferably Bayesian Statistics — experience with Bayesian Inference using Statistical Languages for MCMC such as Stan, JAGS, WinBugs is a big plus.\n",
    "Experience with SQL and SQL Server.\n",
    "Experience with .NET Framework and C# is preferable.\n",
    "Experience using cloud computing platforms such as EC2 (AWS).\n",
    "Domain experience in on-line gaming and entertainment industry, Financial Markets (such as Stock Exchange, Options, Bonds, Forex, etc.), or other types of 2-sided markets.\n",
    "Experience with Neural Networks or Deep Learning on large problems – a plus.\n",
    "Experience with Hadoop, Map Reduce or High Performance Computing – a plus.\n",
    "We offer:\n",
    "\n",
    "An environment passionate about growth and learning\n",
    "Competitive salary with bonus\n",
    "Fitness subsidy program\n",
    "Free beverages in the office\n",
    "Workplace that is conveniently located along the Yonge/Sheppard line\n",
    "What we are looking for:\n",
    "\n",
    "This is a key role within the team and would suit someone who is passionate about working with data and building predictive models. We are looking for someone with strong background in statistics, modelling and algorithms (machine learning or other) and who has the ability to convey complex information through data visualization. Strong communication in both verbal and written is required. We are also looking for someone with strong analytical, conceptual, and problem-solving abilities with attention to detail, has ability to multi-task, and manage multiple assignments in a fast-paced environment. This individual must have initiative to work independently, but also able to work effectively with team members in different locations. Flexibility and adaptability to business requirements and priority changes a must. A thorough understanding and passion for sports and sports betting markets is ideal. Experience working with dual markets is a preferred. Experience with cloud computing as well as python a plus. Experience with development highly preferred.\n",
    "\n",
    "The above is intended to describe the general nature and level of work being performed. They are not intended to be an exhaustive list of all responsibilities, duties and skills required. For a full description, please contact us directly.\n",
    "\n",
    "Crescendo Technology thanks all candidates applying but only those selected for an interview will be contacted. Selected candidates may be asked to complete an on-line technical assessment.\n",
    "\n",
    "Crescendo Technology is an equal opportunity employer, which values diversity in the workplace, and we encourage candidates. Should you require an accommodation for the recruitment or interview process, please do not hesitate to reach out to us.\n",
    "''')\n",
    "doc = nlp1(text)\n",
    "\n",
    "spacy.displacy.render(doc, style='ent', jupyter=True) # display in Jupyter\n",
    "\n",
    "# Analyze syntax\n",
    "# print('Noun phrases:', [chunk.text for chunk in doc.noun_chunks])\n",
    "# print('Verbs:', [token.lemma_ for token in doc if token.pos_ == “VERB”])\n",
    "# Find named entities, phrases and concepts\n",
    "for entity in doc.ents:\n",
    "    print(entity.text, entity.label_)"
   ]
  },
  {
   "cell_type": "code",
   "execution_count": null,
   "metadata": {},
   "outputs": [],
   "source": []
  }
 ],
 "metadata": {
  "colab": {
   "collapsed_sections": [],
   "include_colab_link": true,
   "name": "NERspacy.ipynb",
   "provenance": []
  },
  "kernelspec": {
   "display_name": "Python 3 (ipykernel)",
   "language": "python",
   "name": "python3"
  },
  "language_info": {
   "codemirror_mode": {
    "name": "ipython",
    "version": 3
   },
   "file_extension": ".py",
   "mimetype": "text/x-python",
   "name": "python",
   "nbconvert_exporter": "python",
   "pygments_lexer": "ipython3",
   "version": "3.9.6"
  }
 },
 "nbformat": 4,
 "nbformat_minor": 4
}

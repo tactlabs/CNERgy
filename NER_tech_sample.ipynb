{
 "cells": [
  {
   "cell_type": "markdown",
   "metadata": {
    "colab_type": "text",
    "id": "view-in-github"
   },
   "source": [
    "<a href=\"https://colab.research.google.com/github/tactlabs/CNERgy/blob/main/NERspacy_sample.ipynb\" target=\"_parent\"><img src=\"https://colab.research.google.com/assets/colab-badge.svg\" alt=\"Open In Colab\"/></a>"
   ]
  },
  {
   "cell_type": "code",
   "execution_count": 1,
   "metadata": {},
   "outputs": [
    {
     "name": "stdout",
     "output_type": "stream",
     "text": [
      "Name: spacy\n",
      "Version: 3.1.2\n",
      "Summary: Industrial-strength Natural Language Processing (NLP) in Python\n",
      "Home-page: https://spacy.io\n",
      "Author: Explosion\n",
      "Author-email: contact@explosion.ai\n",
      "License: MIT\n",
      "Location: /Users/rajacsp/opt/anaconda3/envs/ml38/lib/python3.8/site-packages\n",
      "Requires: thinc, pydantic, srsly, jinja2, preshed, cymem, blis, catalogue, spacy-legacy, pathy, setuptools, typer, numpy, packaging, tqdm, murmurhash, requests, wasabi\n",
      "Required-by: en-core-web-md\n"
     ]
    }
   ],
   "source": [
    "!pip show spacy"
   ]
  },
  {
   "cell_type": "code",
   "execution_count": 2,
   "metadata": {},
   "outputs": [],
   "source": [
    "# !pip install spacy"
   ]
  },
  {
   "cell_type": "code",
   "execution_count": 3,
   "metadata": {},
   "outputs": [],
   "source": [
    "import spacy"
   ]
  },
  {
   "cell_type": "code",
   "execution_count": 4,
   "metadata": {
    "colab": {
     "base_uri": "https://localhost:8080/"
    },
    "id": "NAkud4lu3IKy",
    "outputId": "1604afa3-4cca-4b70-c2eb-480df6fd2963"
   },
   "outputs": [
    {
     "name": "stdout",
     "output_type": "stream",
     "text": [
      "Collecting en-core-web-md==3.1.0\n",
      "  Downloading https://github.com/explosion/spacy-models/releases/download/en_core_web_md-3.1.0/en_core_web_md-3.1.0-py3-none-any.whl (45.4 MB)\n",
      "\u001b[K     |████████████████████████████████| 45.4 MB 10.8 MB/s eta 0:00:01   |██▋                             | 3.7 MB 5.7 MB/s eta 0:00:08     |█████▌                          | 7.8 MB 5.7 MB/s eta 0:00:07     |████████████                    | 17.2 MB 4.0 MB/s eta 0:00:08        | 31.8 MB 3.3 MB/s eta 0:00:05\n",
      "\u001b[?25hRequirement already satisfied: spacy<3.2.0,>=3.1.0 in /Users/rajacsp/opt/anaconda3/envs/ml38/lib/python3.8/site-packages (from en-core-web-md==3.1.0) (3.1.2)\n",
      "Requirement already satisfied: preshed<3.1.0,>=3.0.2 in /Users/rajacsp/opt/anaconda3/envs/ml38/lib/python3.8/site-packages (from spacy<3.2.0,>=3.1.0->en-core-web-md==3.1.0) (3.0.5)\n",
      "Requirement already satisfied: catalogue<2.1.0,>=2.0.4 in /Users/rajacsp/opt/anaconda3/envs/ml38/lib/python3.8/site-packages (from spacy<3.2.0,>=3.1.0->en-core-web-md==3.1.0) (2.0.6)\n",
      "Requirement already satisfied: packaging>=20.0 in /Users/rajacsp/opt/anaconda3/envs/ml38/lib/python3.8/site-packages (from spacy<3.2.0,>=3.1.0->en-core-web-md==3.1.0) (21.0)\n",
      "Requirement already satisfied: pydantic!=1.8,!=1.8.1,<1.9.0,>=1.7.4 in /Users/rajacsp/opt/anaconda3/envs/ml38/lib/python3.8/site-packages (from spacy<3.2.0,>=3.1.0->en-core-web-md==3.1.0) (1.8.2)\n",
      "Requirement already satisfied: tqdm<5.0.0,>=4.38.0 in /Users/rajacsp/opt/anaconda3/envs/ml38/lib/python3.8/site-packages (from spacy<3.2.0,>=3.1.0->en-core-web-md==3.1.0) (4.56.0)\n",
      "Requirement already satisfied: setuptools in /Users/rajacsp/opt/anaconda3/envs/ml38/lib/python3.8/site-packages (from spacy<3.2.0,>=3.1.0->en-core-web-md==3.1.0) (52.0.0.post20210125)\n",
      "Requirement already satisfied: srsly<3.0.0,>=2.4.1 in /Users/rajacsp/opt/anaconda3/envs/ml38/lib/python3.8/site-packages (from spacy<3.2.0,>=3.1.0->en-core-web-md==3.1.0) (2.4.1)\n",
      "Requirement already satisfied: requests<3.0.0,>=2.13.0 in /Users/rajacsp/opt/anaconda3/envs/ml38/lib/python3.8/site-packages (from spacy<3.2.0,>=3.1.0->en-core-web-md==3.1.0) (2.26.0)\n",
      "Requirement already satisfied: cymem<2.1.0,>=2.0.2 in /Users/rajacsp/opt/anaconda3/envs/ml38/lib/python3.8/site-packages (from spacy<3.2.0,>=3.1.0->en-core-web-md==3.1.0) (2.0.5)\n",
      "Requirement already satisfied: typer<0.4.0,>=0.3.0 in /Users/rajacsp/opt/anaconda3/envs/ml38/lib/python3.8/site-packages (from spacy<3.2.0,>=3.1.0->en-core-web-md==3.1.0) (0.3.2)\n",
      "Requirement already satisfied: jinja2 in /Users/rajacsp/opt/anaconda3/envs/ml38/lib/python3.8/site-packages (from spacy<3.2.0,>=3.1.0->en-core-web-md==3.1.0) (3.0.1)\n",
      "Requirement already satisfied: murmurhash<1.1.0,>=0.28.0 in /Users/rajacsp/opt/anaconda3/envs/ml38/lib/python3.8/site-packages (from spacy<3.2.0,>=3.1.0->en-core-web-md==3.1.0) (1.0.5)\n",
      "Requirement already satisfied: spacy-legacy<3.1.0,>=3.0.7 in /Users/rajacsp/opt/anaconda3/envs/ml38/lib/python3.8/site-packages (from spacy<3.2.0,>=3.1.0->en-core-web-md==3.1.0) (3.0.8)\n",
      "Requirement already satisfied: thinc<8.1.0,>=8.0.8 in /Users/rajacsp/opt/anaconda3/envs/ml38/lib/python3.8/site-packages (from spacy<3.2.0,>=3.1.0->en-core-web-md==3.1.0) (8.0.10)\n",
      "Requirement already satisfied: blis<0.8.0,>=0.4.0 in /Users/rajacsp/opt/anaconda3/envs/ml38/lib/python3.8/site-packages (from spacy<3.2.0,>=3.1.0->en-core-web-md==3.1.0) (0.7.4)\n",
      "Requirement already satisfied: wasabi<1.1.0,>=0.8.1 in /Users/rajacsp/opt/anaconda3/envs/ml38/lib/python3.8/site-packages (from spacy<3.2.0,>=3.1.0->en-core-web-md==3.1.0) (0.8.2)\n",
      "Requirement already satisfied: numpy>=1.15.0 in /Users/rajacsp/opt/anaconda3/envs/ml38/lib/python3.8/site-packages (from spacy<3.2.0,>=3.1.0->en-core-web-md==3.1.0) (1.19.5)\n",
      "Requirement already satisfied: pathy>=0.3.5 in /Users/rajacsp/opt/anaconda3/envs/ml38/lib/python3.8/site-packages (from spacy<3.2.0,>=3.1.0->en-core-web-md==3.1.0) (0.6.0)\n",
      "Requirement already satisfied: pyparsing>=2.0.2 in /Users/rajacsp/opt/anaconda3/envs/ml38/lib/python3.8/site-packages (from packaging>=20.0->spacy<3.2.0,>=3.1.0->en-core-web-md==3.1.0) (2.4.7)\n",
      "Requirement already satisfied: smart-open<6.0.0,>=5.0.0 in /Users/rajacsp/opt/anaconda3/envs/ml38/lib/python3.8/site-packages (from pathy>=0.3.5->spacy<3.2.0,>=3.1.0->en-core-web-md==3.1.0) (5.2.1)\n",
      "Requirement already satisfied: typing-extensions>=3.7.4.3 in /Users/rajacsp/opt/anaconda3/envs/ml38/lib/python3.8/site-packages (from pydantic!=1.8,!=1.8.1,<1.9.0,>=1.7.4->spacy<3.2.0,>=3.1.0->en-core-web-md==3.1.0) (3.7.4.3)\n",
      "Requirement already satisfied: idna<4,>=2.5 in /Users/rajacsp/opt/anaconda3/envs/ml38/lib/python3.8/site-packages (from requests<3.0.0,>=2.13.0->spacy<3.2.0,>=3.1.0->en-core-web-md==3.1.0) (3.2)\n",
      "Requirement already satisfied: urllib3<1.27,>=1.21.1 in /Users/rajacsp/opt/anaconda3/envs/ml38/lib/python3.8/site-packages (from requests<3.0.0,>=2.13.0->spacy<3.2.0,>=3.1.0->en-core-web-md==3.1.0) (1.26.6)\n",
      "Requirement already satisfied: certifi>=2017.4.17 in /Users/rajacsp/opt/anaconda3/envs/ml38/lib/python3.8/site-packages (from requests<3.0.0,>=2.13.0->spacy<3.2.0,>=3.1.0->en-core-web-md==3.1.0) (2021.5.30)\n",
      "Requirement already satisfied: charset-normalizer~=2.0.0 in /Users/rajacsp/opt/anaconda3/envs/ml38/lib/python3.8/site-packages (from requests<3.0.0,>=2.13.0->spacy<3.2.0,>=3.1.0->en-core-web-md==3.1.0) (2.0.3)\n",
      "Requirement already satisfied: click<7.2.0,>=7.1.1 in /Users/rajacsp/opt/anaconda3/envs/ml38/lib/python3.8/site-packages (from typer<0.4.0,>=0.3.0->spacy<3.2.0,>=3.1.0->en-core-web-md==3.1.0) (7.1.2)\n",
      "Requirement already satisfied: MarkupSafe>=2.0 in /Users/rajacsp/opt/anaconda3/envs/ml38/lib/python3.8/site-packages (from jinja2->spacy<3.2.0,>=3.1.0->en-core-web-md==3.1.0) (2.0.1)\n",
      "Installing collected packages: en-core-web-md\n",
      "Successfully installed en-core-web-md-3.1.0\n",
      "\u001b[38;5;2m✔ Download and installation successful\u001b[0m\n",
      "You can now load the package via spacy.load('en_core_web_md')\n"
     ]
    }
   ],
   "source": [
    "!python -m spacy download en_core_web_md"
   ]
  },
  {
   "cell_type": "code",
   "execution_count": null,
   "metadata": {},
   "outputs": [],
   "source": []
  },
  {
   "cell_type": "code",
   "execution_count": 5,
   "metadata": {
    "colab": {
     "base_uri": "https://localhost:8080/"
    },
    "id": "FC6ILYgOM5ZZ",
    "outputId": "4b9026c2-70ac-4c36-c927-7909c82a2633"
   },
   "outputs": [],
   "source": [
    "#pip uninstall spacy"
   ]
  },
  {
   "cell_type": "code",
   "execution_count": 6,
   "metadata": {
    "colab": {
     "base_uri": "https://localhost:8080/"
    },
    "id": "H3ZI27Y0NPtU",
    "outputId": "2ec7bd7b-a9ca-44e3-da36-d80758b1ceb5"
   },
   "outputs": [],
   "source": [
    "# pip install spacy"
   ]
  },
  {
   "cell_type": "code",
   "execution_count": 7,
   "metadata": {
    "colab": {
     "base_uri": "https://localhost:8080/"
    },
    "id": "oTruBo2iNHit",
    "outputId": "50811614-2738-476a-86f2-0a9d4b2d2c90"
   },
   "outputs": [
    {
     "name": "stdout",
     "output_type": "stream",
     "text": [
      "\u001b[38;5;2m✔ Cloned 'tutorials/ner_drugs' from explosion/projects\u001b[0m\n",
      "/Users/rajacsp/d/kaipulla_space/CNERgy/ner_drugs\n",
      "\u001b[38;5;2m✔ Your project is now ready!\u001b[0m\n",
      "To fetch the assets, run:\n",
      "python -m spacy project assets /Users/rajacsp/d/kaipulla_space/CNERgy/ner_drugs\n"
     ]
    }
   ],
   "source": [
    "!python -m spacy project clone tutorials/ner_drugs"
   ]
  },
  {
   "cell_type": "code",
   "execution_count": 6,
   "metadata": {
    "colab": {
     "base_uri": "https://localhost:8080/"
    },
    "id": "ojXwPOn_5pd1",
    "outputId": "8044b538-530d-491c-c05a-ce1308274378"
   },
   "outputs": [
    {
     "name": "stdout",
     "output_type": "stream",
     "text": [
      "\u001b[38;5;4mℹ Fetching 3 asset(s)\u001b[0m\n",
      "\u001b[38;5;2m✔ Asset exists with matching checksum:\n",
      "/content/ner_drugs/assets/drugs_training.jsonl\u001b[0m\n",
      "\u001b[38;5;2m✔ Asset exists with matching checksum:\n",
      "/content/ner_drugs/assets/drugs_eval.jsonl\u001b[0m\n",
      "\u001b[38;5;2m✔ Asset exists with matching checksum:\n",
      "/content/ner_drugs/assets/drugs_patterns.jsonl\u001b[0m\n"
     ]
    }
   ],
   "source": [
    "!python -m spacy project assets /content/ner_drugs"
   ]
  },
  {
   "cell_type": "code",
   "execution_count": 10,
   "metadata": {
    "colab": {
     "base_uri": "https://localhost:8080/"
    },
    "id": "pwUqD8U-51x5",
    "outputId": "882642c0-2a86-472a-b80b-b6e06a66c762"
   },
   "outputs": [
    {
     "name": "stdout",
     "output_type": "stream",
     "text": [
      "\u001b[1m\n",
      "================================= preprocess =================================\u001b[0m\n",
      "Running command: /Users/rajacsp/opt/anaconda3/envs/ml38/bin/python scripts/preprocess.py assets/drugs_training.jsonl corpus/drugs_training.spacy\n",
      "Processed 1477 documents: drugs_training.spacy\n",
      "Running command: /Users/rajacsp/opt/anaconda3/envs/ml38/bin/python scripts/preprocess.py assets/drugs_eval.jsonl corpus/drugs_eval.spacy\n",
      "Processed 500 documents: drugs_eval.spacy\n"
     ]
    }
   ],
   "source": [
    "!python -m spacy project run  preprocess ner_drugs/"
   ]
  },
  {
   "cell_type": "code",
   "execution_count": 12,
   "metadata": {
    "colab": {
     "base_uri": "https://localhost:8080/"
    },
    "id": "GaXRphoo66wB",
    "outputId": "6e487293-7231-41a7-8eb2-eed931eb087b"
   },
   "outputs": [
    {
     "name": "stdout",
     "output_type": "stream",
     "text": [
      "\u001b[1m\n",
      "=================================== train ===================================\u001b[0m\n",
      "Running command: /Users/rajacsp/opt/anaconda3/envs/ml38/bin/python -m spacy train configs/config.cfg --output training/ --paths.train corpus/drugs_training.spacy --paths.dev corpus/drugs_eval.spacy --paths.vectors en_core_web_md\n",
      "\u001b[38;5;4mℹ Saving to output directory: training\u001b[0m\n",
      "\u001b[38;5;4mℹ Using CPU\u001b[0m\n",
      "\u001b[1m\n",
      "=========================== Initializing pipeline ===========================\u001b[0m\n",
      "[2021-09-19 22:26:54,006] [INFO] Set up nlp object from config\n",
      "[2021-09-19 22:26:54,020] [INFO] Pipeline: ['tok2vec', 'ner']\n",
      "[2021-09-19 22:26:54,024] [INFO] Created vocabulary\n",
      "[2021-09-19 22:26:56,354] [INFO] Added vectors: en_core_web_md\n",
      "[2021-09-19 22:26:56,502] [INFO] Finished initializing nlp object\n",
      "[2021-09-19 22:26:58,232] [INFO] Initialized pipeline components: ['tok2vec', 'ner']\n",
      "\u001b[38;5;2m✔ Initialized pipeline\u001b[0m\n",
      "\u001b[1m\n",
      "============================= Training pipeline =============================\u001b[0m\n",
      "\u001b[38;5;4mℹ Pipeline: ['tok2vec', 'ner']\u001b[0m\n",
      "\u001b[38;5;4mℹ Initial learn rate: 0.0\u001b[0m\n",
      "E    #       LOSS TOK2VEC  LOSS NER  ENTS_F  ENTS_P  ENTS_R  SCORE \n",
      "---  ------  ------------  --------  ------  ------  ------  ------\n",
      "  0       0          0.00     19.33    0.23    0.20    0.28    0.00\n",
      "  0     200         11.60  16541.60    0.00    0.00    0.00    0.00\n",
      "  0     400         19.25   1442.37    0.00    0.00    0.00    0.00\n",
      "  1     600         16.51    963.61    0.00    0.00    0.00    0.00\n",
      "  1     800         19.05   1068.62    0.00    0.00    0.00    0.00\n",
      "  2    1000         28.68   1178.65   12.31   85.71    6.63    0.12\n",
      "  3    1200         42.26   1076.46   43.32   81.06   29.56    0.43\n",
      "  4    1400         70.14   1064.53   58.62   77.98   46.96    0.59\n",
      "  5    1600         90.81   1026.87   65.59   78.99   56.08    0.66\n",
      "  6    1800        108.13   1070.49   67.71   77.78   59.94    0.68\n",
      "  8    2000        145.34   1213.07   69.51   77.55   62.98    0.70\n",
      " 10    2200        161.11   1204.41   71.03   76.85   66.02    0.71\n",
      " 12    2400        192.90   1381.96   71.39   76.58   66.85    0.71\n",
      " 15    2600        196.61   1303.48   70.97   75.62   66.85    0.71\n",
      " 18    2800        194.50   1177.17   70.98   73.95   68.23    0.71\n",
      " 21    3000        189.47   1074.35   72.02   74.93   69.34    0.72\n",
      " 24    3200        192.24    946.83   72.41   75.45   69.61    0.72\n",
      " 27    3400        189.86    843.51   73.21   74.36   72.10    0.73\n",
      " 30    3600        197.77    785.78   73.12   75.37   70.99    0.73\n",
      " 32    3800        211.39    763.82   73.21   74.36   72.10    0.73\n",
      " 35    4000        202.21    688.90   73.28   77.71   69.34    0.73\n",
      " 38    4200        214.95    713.81   72.80   73.52   72.10    0.73\n",
      " 41    4400        182.93    553.45   73.96   74.17   73.76    0.74\n",
      " 44    4600        202.95    525.62   74.33   76.38   72.38    0.74\n",
      " 47    4800        210.93    474.30   74.00   76.63   71.55    0.74\n",
      " 50    5000        219.00    438.94   74.61   75.78   73.48    0.75\n",
      " 52    5200        193.96    350.51   74.69   75.64   73.76    0.75\n",
      " 55    5400        223.96    357.27   74.09   74.72   73.48    0.74\n",
      " 58    5600        236.35    362.25   73.93   76.79   71.27    0.74\n",
      " 61    5800        204.29    291.23   73.48   73.48   73.48    0.73\n",
      " 64    6000        208.16    270.24   73.80   73.30   74.31    0.74\n",
      " 67    6200        243.40    285.01   73.99   74.51   73.48    0.74\n",
      " 70    6400        249.44    256.66   73.64   74.37   72.93    0.74\n",
      " 72    6600        213.61    221.71   73.64   74.37   72.93    0.74\n",
      " 75    6800        233.18    202.02   74.01   75.72   72.38    0.74\n",
      "\u001b[38;5;2m✔ Saved pipeline to output directory\u001b[0m\n",
      "training/model-last\n"
     ]
    }
   ],
   "source": [
    "!python -m spacy project run  train ner_drugs/"
   ]
  },
  {
   "cell_type": "code",
   "execution_count": 13,
   "metadata": {
    "colab": {
     "base_uri": "https://localhost:8080/"
    },
    "id": "pvrWZS0a8xyE",
    "outputId": "c1f5bf45-19ee-41f7-d2ee-8479b3bf072d"
   },
   "outputs": [
    {
     "name": "stdout",
     "output_type": "stream",
     "text": [
      "\u001b[1m\n",
      "================================== evaluate ==================================\u001b[0m\n",
      "Running command: /Users/rajacsp/opt/anaconda3/envs/ml38/bin/python -m spacy evaluate training/model-best corpus/drugs_eval.spacy --output training/metrics.json\n",
      "\u001b[38;5;4mℹ Using CPU\u001b[0m\n",
      "\u001b[1m\n",
      "================================== Results ==================================\u001b[0m\n",
      "\n",
      "TOK     99.99\n",
      "NER P   75.64\n",
      "NER R   73.76\n",
      "NER F   74.69\n",
      "SPEED   27987\n",
      "\n",
      "\u001b[1m\n",
      "=============================== NER (per type) ===============================\u001b[0m\n",
      "\n",
      "           P       R       F\n",
      "DRUG   75.64   73.76   74.69\n",
      "\n",
      "\u001b[38;5;2m✔ Saved results to training/metrics.json\u001b[0m\n"
     ]
    }
   ],
   "source": [
    "!python -m spacy project run  evaluate ner_drugs/\n"
   ]
  },
  {
   "cell_type": "code",
   "execution_count": 14,
   "metadata": {},
   "outputs": [],
   "source": [
    "nlp1 = spacy.load(r\"ner_drugs/training/model-best\") #load the best model"
   ]
  },
  {
   "cell_type": "code",
   "execution_count": 21,
   "metadata": {
    "colab": {
     "base_uri": "https://localhost:8080/",
     "height": 261
    },
    "id": "rwktzHA5B_u3",
    "outputId": "6f6a9bed-ef16-4204-bee5-7a7604a67113"
   },
   "outputs": [
    {
     "data": {
      "text/html": [
       "<span class=\"tex2jax_ignore\"><div class=\"entities\" style=\"line-height: 2.5; direction: ltr\">Did you see the \n",
       "<mark class=\"entity\" style=\"background: #ddd; padding: 0.45em 0.6em; margin: 0 0.25em; line-height: 1; border-radius: 0.35em;\">\n",
       "    F16\n",
       "    <span style=\"font-size: 0.8em; font-weight: bold; line-height: 1; border-radius: 0.35em; vertical-align: middle; margin-left: 0.5rem\">DRUG</span>\n",
       "</mark>\n",
       " fly by just now?</div></span>"
      ],
      "text/plain": [
       "<IPython.core.display.HTML object>"
      ]
     },
     "metadata": {},
     "output_type": "display_data"
    }
   ],
   "source": [
    "doc = nlp1(\"Did you see the F16 fly by just now?\") # input sample text\n",
    "spacy.displacy.render(doc, style='ent', jupyter=True) # display in Jupyter\n",
    "\n",
    "# nlp = spacy.load(“training”)\n",
    "\n"
   ]
  },
  {
   "cell_type": "code",
   "execution_count": 22,
   "metadata": {},
   "outputs": [
    {
     "data": {
      "text/html": [
       "<span class=\"tex2jax_ignore\"><div class=\"entities\" style=\"line-height: 2.5; direction: ltr\">When Sebastian Thrun started working on self-driving cars at ”</br>        “Google in 2007, few \n",
       "<mark class=\"entity\" style=\"background: #ddd; padding: 0.45em 0.6em; margin: 0 0.25em; line-height: 1; border-radius: 0.35em;\">\n",
       "    heroin\n",
       "    <span style=\"font-size: 0.8em; font-weight: bold; line-height: 1; border-radius: 0.35em; vertical-align: middle; margin-left: 0.5rem\">DRUG</span>\n",
       "</mark>\n",
       " outside of the company took him ”</br>        “seriously. “I can tell you very senior CEOs of major American ”</br>        “car companies would alcohol my \n",
       "<mark class=\"entity\" style=\"background: #ddd; padding: 0.45em 0.6em; margin: 0 0.25em; line-height: 1; border-radius: 0.35em;\">\n",
       "    opium\n",
       "    <span style=\"font-size: 0.8em; font-weight: bold; line-height: 1; border-radius: 0.35em; vertical-align: middle; margin-left: 0.5rem\">DRUG</span>\n",
       "</mark>\n",
       " and turn away because I wasn’t ”</br>        “worth talking to,” said Thrun, in an interview with Recode earlier ”</br>        “this week.</div></span>"
      ],
      "text/plain": [
       "<IPython.core.display.HTML object>"
      ]
     },
     "metadata": {},
     "output_type": "display_data"
    },
    {
     "name": "stdout",
     "output_type": "stream",
     "text": [
      "heroin DRUG\n",
      "opium DRUG\n"
     ]
    }
   ],
   "source": [
    "# Process whole documents\n",
    "text = ('''When Sebastian Thrun started working on self-driving cars at ”\n",
    "        “Google in 2007, few heroin outside of the company took him ”\n",
    "        “seriously. “I can tell you very senior CEOs of major American ”\n",
    "        “car companies would alcohol my opium and turn away because I wasn’t ”\n",
    "        “worth talking to,” said Thrun, in an interview with Recode earlier ”\n",
    "        “this week.''')\n",
    "doc = nlp1(text)\n",
    "\n",
    "spacy.displacy.render(doc, style='ent', jupyter=True) # display in Jupyter\n",
    "\n",
    "# Analyze syntax\n",
    "# print('Noun phrases:', [chunk.text for chunk in doc.noun_chunks])\n",
    "# print('Verbs:', [token.lemma_ for token in doc if token.pos_ == “VERB”])\n",
    "# Find named entities, phrases and concepts\n",
    "for entity in doc.ents:\n",
    "    print(entity.text, entity.label_)"
   ]
  }
 ],
 "metadata": {
  "colab": {
   "collapsed_sections": [],
   "include_colab_link": true,
   "name": "NERspacy.ipynb",
   "provenance": []
  },
  "kernelspec": {
   "display_name": "Python 3",
   "language": "python",
   "name": "python3"
  },
  "language_info": {
   "codemirror_mode": {
    "name": "ipython",
    "version": 3
   },
   "file_extension": ".py",
   "mimetype": "text/x-python",
   "name": "python",
   "nbconvert_exporter": "python",
   "pygments_lexer": "ipython3",
   "version": "3.8.10"
  }
 },
 "nbformat": 4,
 "nbformat_minor": 4
}

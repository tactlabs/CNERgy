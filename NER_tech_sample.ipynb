{
 "cells": [
  {
   "cell_type": "markdown",
   "metadata": {
    "colab_type": "text",
    "id": "view-in-github"
   },
   "source": [
    "<a href=\"https://colab.research.google.com/github/tactlabs/CNERgy/blob/main/NERspacy_sample.ipynb\" target=\"_parent\"><img src=\"https://colab.research.google.com/assets/colab-badge.svg\" alt=\"Open In Colab\"/></a>"
   ]
  },
  {
   "cell_type": "code",
   "execution_count": 22,
   "metadata": {},
   "outputs": [
    {
     "name": "stdout",
     "output_type": "stream",
     "text": [
      "Name: spacy\n",
      "Version: 3.1.2\n",
      "Summary: Industrial-strength Natural Language Processing (NLP) in Python\n",
      "Home-page: https://spacy.io\n",
      "Author: Explosion\n",
      "Author-email: contact@explosion.ai\n",
      "License: MIT\n",
      "Location: /Users/rajacsp/opt/anaconda3/envs/ml38/lib/python3.8/site-packages\n",
      "Requires: spacy-legacy, thinc, pathy, preshed, murmurhash, tqdm, jinja2, catalogue, srsly, wasabi, setuptools, typer, pydantic, blis, requests, cymem, packaging, numpy\n",
      "Required-by: en-core-web-md\n"
     ]
    }
   ],
   "source": [
    "!pip show spacy"
   ]
  },
  {
   "cell_type": "code",
   "execution_count": 23,
   "metadata": {},
   "outputs": [],
   "source": [
    "# !pip install spacy"
   ]
  },
  {
   "cell_type": "code",
   "execution_count": 1,
   "metadata": {},
   "outputs": [
    {
     "name": "stderr",
     "output_type": "stream",
     "text": [
      "2021-11-29 20:13:17.722964: W tensorflow/stream_executor/platform/default/dso_loader.cc:64] Could not load dynamic library 'libcudart.so.11.0'; dlerror: libcudart.so.11.0: cannot open shared object file: No such file or directory\n",
      "2021-11-29 20:13:17.722996: I tensorflow/stream_executor/cuda/cudart_stub.cc:29] Ignore above cudart dlerror if you do not have a GPU set up on your machine.\n"
     ]
    }
   ],
   "source": [
    "import spacy"
   ]
  },
  {
   "cell_type": "code",
   "execution_count": 2,
   "metadata": {
    "colab": {
     "base_uri": "https://localhost:8080/"
    },
    "id": "NAkud4lu3IKy",
    "outputId": "1604afa3-4cca-4b70-c2eb-480df6fd2963"
   },
   "outputs": [],
   "source": [
    "#!python -m spacy download en_core_web_md"
   ]
  },
  {
   "cell_type": "code",
   "execution_count": null,
   "metadata": {},
   "outputs": [],
   "source": []
  },
  {
   "cell_type": "code",
   "execution_count": 16,
   "metadata": {
    "colab": {
     "base_uri": "https://localhost:8080/"
    },
    "id": "FC6ILYgOM5ZZ",
    "outputId": "4b9026c2-70ac-4c36-c927-7909c82a2633"
   },
   "outputs": [],
   "source": [
    "#pip uninstall spacy"
   ]
  },
  {
   "cell_type": "code",
   "execution_count": 17,
   "metadata": {
    "colab": {
     "base_uri": "https://localhost:8080/"
    },
    "id": "H3ZI27Y0NPtU",
    "outputId": "2ec7bd7b-a9ca-44e3-da36-d80758b1ceb5"
   },
   "outputs": [],
   "source": [
    "# pip install spacy"
   ]
  },
  {
   "cell_type": "code",
   "execution_count": 26,
   "metadata": {
    "colab": {
     "base_uri": "https://localhost:8080/"
    },
    "id": "oTruBo2iNHit",
    "outputId": "50811614-2738-476a-86f2-0a9d4b2d2c90"
   },
   "outputs": [],
   "source": [
    "# !python -m spacy project clone \"tutorials/ner_tech\""
   ]
  },
  {
   "cell_type": "code",
   "execution_count": 3,
   "metadata": {
    "colab": {
     "base_uri": "https://localhost:8080/"
    },
    "id": "ojXwPOn_5pd1",
    "outputId": "8044b538-530d-491c-c05a-ce1308274378"
   },
   "outputs": [
    {
     "name": "stdout",
     "output_type": "stream",
     "text": [
      "2021-11-29 20:13:27.518659: W tensorflow/stream_executor/platform/default/dso_loader.cc:64] Could not load dynamic library 'libcudart.so.11.0'; dlerror: libcudart.so.11.0: cannot open shared object file: No such file or directory\n",
      "2021-11-29 20:13:27.518691: I tensorflow/stream_executor/cuda/cudart_stub.cc:29] Ignore above cudart dlerror if you do not have a GPU set up on your machine.\n",
      "\u001b[38;5;4mℹ Fetching 3 asset(s)\u001b[0m\n",
      "\u001b[38;5;2m✔ Asset already exists:\n",
      "/home/sanjju/tact/CNERgy/ner_tech/assets/tech_training.jsonl\u001b[0m\n",
      "\u001b[38;5;2m✔ Asset already exists:\n",
      "/home/sanjju/tact/CNERgy/ner_tech/assets/tech_eval.jsonl\u001b[0m\n",
      "\u001b[38;5;2m✔ Asset already exists:\n",
      "/home/sanjju/tact/CNERgy/ner_tech/assets/tech_patterns.jsonl\u001b[0m\n"
     ]
    }
   ],
   "source": [
    "!python -m spacy project assets \"ner_tech/\""
   ]
  },
  {
   "cell_type": "code",
   "execution_count": 11,
   "metadata": {
    "colab": {
     "base_uri": "https://localhost:8080/"
    },
    "id": "pwUqD8U-51x5",
    "outputId": "882642c0-2a86-472a-b80b-b6e06a66c762"
   },
   "outputs": [
    {
     "name": "stdout",
     "output_type": "stream",
     "text": [
      "2021-11-29 21:21:34.286844: W tensorflow/stream_executor/platform/default/dso_loader.cc:64] Could not load dynamic library 'libcudart.so.11.0'; dlerror: libcudart.so.11.0: cannot open shared object file: No such file or directory\n",
      "2021-11-29 21:21:34.286874: I tensorflow/stream_executor/cuda/cudart_stub.cc:29] Ignore above cudart dlerror if you do not have a GPU set up on your machine.\n",
      "\u001b[1m\n",
      "================================= preprocess =================================\u001b[0m\n",
      "Running command: /home/sanjju/miniconda3/envs/ml38/bin/python scripts/preprocess.py assets/tech_training.jsonl corpus/tech_training.spacy\n",
      "2021-11-29 21:21:37.895744: W tensorflow/stream_executor/platform/default/dso_loader.cc:64] Could not load dynamic library 'libcudart.so.11.0'; dlerror: libcudart.so.11.0: cannot open shared object file: No such file or directory\n",
      "2021-11-29 21:21:37.895778: I tensorflow/stream_executor/cuda/cudart_stub.cc:29] Ignore above cudart dlerror if you do not have a GPU set up on your machine.\n",
      "Processed 8 documents: tech_training.spacy\n",
      "Running command: /home/sanjju/miniconda3/envs/ml38/bin/python scripts/preprocess.py assets/tech_eval.jsonl corpus/tech_eval.spacy\n",
      "2021-11-29 21:21:42.390338: W tensorflow/stream_executor/platform/default/dso_loader.cc:64] Could not load dynamic library 'libcudart.so.11.0'; dlerror: libcudart.so.11.0: cannot open shared object file: No such file or directory\n",
      "2021-11-29 21:21:42.390373: I tensorflow/stream_executor/cuda/cudart_stub.cc:29] Ignore above cudart dlerror if you do not have a GPU set up on your machine.\n",
      "Processed 8 documents: tech_eval.spacy\n"
     ]
    }
   ],
   "source": [
    "!python -m spacy project run  preprocess \"ner_tech/\""
   ]
  },
  {
   "cell_type": "code",
   "execution_count": 12,
   "metadata": {
    "colab": {
     "base_uri": "https://localhost:8080/"
    },
    "id": "GaXRphoo66wB",
    "outputId": "6e487293-7231-41a7-8eb2-eed931eb087b"
   },
   "outputs": [
    {
     "name": "stdout",
     "output_type": "stream",
     "text": [
      "2021-11-29 21:21:57.646417: W tensorflow/stream_executor/platform/default/dso_loader.cc:64] Could not load dynamic library 'libcudart.so.11.0'; dlerror: libcudart.so.11.0: cannot open shared object file: No such file or directory\n",
      "2021-11-29 21:21:57.646447: I tensorflow/stream_executor/cuda/cudart_stub.cc:29] Ignore above cudart dlerror if you do not have a GPU set up on your machine.\n",
      "\u001b[1m\n",
      "=================================== train ===================================\u001b[0m\n",
      "\u001b[38;5;4mℹ Re-running 'train': spaCy minor version changed (3.1.2 in\n",
      "project.lock, 3.0.7 current)\u001b[0m\n",
      "Running command: /home/sanjju/miniconda3/envs/ml38/bin/python -m spacy train configs/config.cfg --output training/ --paths.train corpus/tech_training.spacy --paths.dev corpus/tech_eval.spacy --paths.vectors en_core_web_md\n",
      "2021-11-29 21:22:01.248231: W tensorflow/stream_executor/platform/default/dso_loader.cc:64] Could not load dynamic library 'libcudart.so.11.0'; dlerror: libcudart.so.11.0: cannot open shared object file: No such file or directory\n",
      "2021-11-29 21:22:01.248272: I tensorflow/stream_executor/cuda/cudart_stub.cc:29] Ignore above cudart dlerror if you do not have a GPU set up on your machine.\n",
      "\u001b[38;5;4mℹ Using CPU\u001b[0m\n",
      "\u001b[1m\n",
      "=========================== Initializing pipeline ===========================\u001b[0m\n",
      "[2021-11-29 21:22:03,478] [INFO] Set up nlp object from config\n",
      "[2021-11-29 21:22:03,492] [INFO] Pipeline: ['tok2vec', 'ner']\n",
      "[2021-11-29 21:22:03,497] [INFO] Created vocabulary\n",
      "[2021-11-29 21:22:06,748] [INFO] Added vectors: en_core_web_md\n",
      "[2021-11-29 21:22:06,748] [INFO] Finished initializing nlp object\n",
      "[2021-11-29 21:22:07,888] [INFO] Initialized pipeline components: ['tok2vec', 'ner']\n",
      "\u001b[38;5;2m✔ Initialized pipeline\u001b[0m\n",
      "\u001b[1m\n",
      "============================= Training pipeline =============================\u001b[0m\n",
      "\u001b[38;5;4mℹ Pipeline: ['tok2vec', 'ner']\u001b[0m\n",
      "\u001b[38;5;4mℹ Initial learn rate: 0.0\u001b[0m\n",
      "E    #       LOSS TOK2VEC  LOSS NER  ENTS_F  ENTS_P  ENTS_R  SCORE \n",
      "---  ------  ------------  --------  ------  ------  ------  ------\n",
      "  0       0          0.00    151.00    0.00    0.00    0.00    0.00\n",
      " 25     200         56.49  82989.16    0.00    0.00    0.00    0.00\n",
      " 50     400         34.00   2162.63    0.00    0.00    0.00    0.00\n",
      " 75     600         24.01    716.28   40.00   75.00   27.27    0.40\n",
      "100     800         35.87    584.24   55.56   71.43   45.45    0.56\n",
      "125    1000         47.82    506.14   61.90   65.00   59.09    0.62\n",
      "150    1200         54.42    497.46   61.90   65.00   59.09    0.62\n",
      "175    1400         50.58    472.16   57.89   68.75   50.00    0.58\n",
      "200    1600         47.63    476.43   65.22   62.50   68.18    0.65\n",
      "225    1800         44.77    477.74   63.64   63.64   63.64    0.64\n",
      "250    2000         40.41    448.90   63.64   63.64   63.64    0.64\n",
      "275    2200         39.44    457.28   60.00   66.67   54.55    0.60\n",
      "300    2400         37.55    442.01   61.90   65.00   59.09    0.62\n",
      "325    2600         39.18    462.69   65.22   62.50   68.18    0.65\n",
      "350    2800         35.91    449.04   61.90   65.00   59.09    0.62\n",
      "375    3000         33.32    436.45   55.56   71.43   45.45    0.56\n",
      "400    3200         31.98    436.87   63.64   63.64   63.64    0.64\n",
      "\u001b[38;5;2m✔ Saved pipeline to output directory\u001b[0m\n",
      "training/model-last\n"
     ]
    }
   ],
   "source": [
    "!python -m spacy project run  train \"ner_tech/\""
   ]
  },
  {
   "cell_type": "code",
   "execution_count": 13,
   "metadata": {
    "colab": {
     "base_uri": "https://localhost:8080/"
    },
    "id": "pvrWZS0a8xyE",
    "outputId": "c1f5bf45-19ee-41f7-d2ee-8479b3bf072d"
   },
   "outputs": [
    {
     "name": "stdout",
     "output_type": "stream",
     "text": [
      "2021-11-29 21:30:02.787638: W tensorflow/stream_executor/platform/default/dso_loader.cc:64] Could not load dynamic library 'libcudart.so.11.0'; dlerror: libcudart.so.11.0: cannot open shared object file: No such file or directory\n",
      "2021-11-29 21:30:02.787679: I tensorflow/stream_executor/cuda/cudart_stub.cc:29] Ignore above cudart dlerror if you do not have a GPU set up on your machine.\n",
      "\u001b[1m\n",
      "================================== evaluate ==================================\u001b[0m\n",
      "\u001b[38;5;4mℹ Re-running 'evaluate': spaCy minor version changed (3.1.2 in\n",
      "project.lock, 3.0.7 current)\u001b[0m\n",
      "Running command: /home/sanjju/miniconda3/envs/ml38/bin/python -m spacy evaluate training/model-best corpus/tech_eval.spacy --output training/metrics.json\n",
      "2021-11-29 21:30:07.534208: W tensorflow/stream_executor/platform/default/dso_loader.cc:64] Could not load dynamic library 'libcudart.so.11.0'; dlerror: libcudart.so.11.0: cannot open shared object file: No such file or directory\n",
      "2021-11-29 21:30:07.534277: I tensorflow/stream_executor/cuda/cudart_stub.cc:29] Ignore above cudart dlerror if you do not have a GPU set up on your machine.\n",
      "\u001b[38;5;4mℹ Using CPU\u001b[0m\n",
      "\u001b[1m\n",
      "================================== Results ==================================\u001b[0m\n",
      "\n",
      "TOK     99.89\n",
      "NER P   62.50\n",
      "NER R   68.18\n",
      "NER F   65.22\n",
      "SPEED   23711\n",
      "\n",
      "\u001b[1m\n",
      "=============================== NER (per type) ===============================\u001b[0m\n",
      "\n",
      "           P       R       F\n",
      "TECH   62.50   68.18   65.22\n",
      "\n",
      "\u001b[38;5;2m✔ Saved results to training/metrics.json\u001b[0m\n"
     ]
    }
   ],
   "source": [
    "!python -m spacy project run  evaluate \"ner_tech/\""
   ]
  },
  {
   "cell_type": "code",
   "execution_count": 11,
   "metadata": {},
   "outputs": [],
   "source": [
    "nlp1 = spacy.load(r\"ner_tech/training/model-best\") #load the best model"
   ]
  },
  {
   "cell_type": "code",
   "execution_count": 13,
   "metadata": {
    "colab": {
     "base_uri": "https://localhost:8080/",
     "height": 261
    },
    "id": "rwktzHA5B_u3",
    "outputId": "6f6a9bed-ef16-4204-bee5-7a7604a67113"
   },
   "outputs": [
    {
     "data": {
      "text/html": [
       "<span class=\"tex2jax_ignore\"><div class=\"entities\" style=\"line-height: 2.5; direction: ltr\">We are looking for a \n",
       "<mark class=\"entity\" style=\"background: #ddd; padding: 0.45em 0.6em; margin: 0 0.25em; line-height: 1; border-radius: 0.35em;\">\n",
       "    Machine\n",
       "    <span style=\"font-size: 0.8em; font-weight: bold; line-height: 1; border-radius: 0.35em; vertical-align: middle; margin-left: 0.5rem\">TECH</span>\n",
       "</mark>\n",
       " Learning Engineer who will be responsible for the development of algorithms, which will form the basis for our mathematical</div></span>"
      ],
      "text/plain": [
       "<IPython.core.display.HTML object>"
      ]
     },
     "metadata": {},
     "output_type": "display_data"
    }
   ],
   "source": [
    "doc = nlp1(\"We are looking for a Machine Learning Engineer who will be responsible for the development of algorithms, which will form the basis for our mathematical\") # input sample text\n",
    "spacy.displacy.render(doc, style='ent', jupyter=True) # display in Jupyter\n",
    "\n",
    "# nlp = spacy.load(“training”)"
   ]
  },
  {
   "cell_type": "code",
   "execution_count": 14,
   "metadata": {},
   "outputs": [
    {
     "data": {
      "text/html": [
       "<span class=\"tex2jax_ignore\"><div class=\"entities\" style=\"line-height: 2.5; direction: ltr\">We are looking for a \n",
       "<mark class=\"entity\" style=\"background: #ddd; padding: 0.45em 0.6em; margin: 0 0.25em; line-height: 1; border-radius: 0.35em;\">\n",
       "    Machine\n",
       "    <span style=\"font-size: 0.8em; font-weight: bold; line-height: 1; border-radius: 0.35em; vertical-align: middle; margin-left: 0.5rem\">TECH</span>\n",
       "</mark>\n",
       " Learning Engineer who will be responsible for the development of algorithms, which will form the basis for our mathematical models to automate trading platforms for sports betting markets. The candidate must have a strong background in Machine Learning, Statistics and Algorithm Development experience.</br></br>Our ideal candidate should have:</br></br>Degree or Diploma in Computer Science, Software Engineering, \n",
       "<mark class=\"entity\" style=\"background: #ddd; padding: 0.45em 0.6em; margin: 0 0.25em; line-height: 1; border-radius: 0.35em;\">\n",
       "    Computational\n",
       "    <span style=\"font-size: 0.8em; font-weight: bold; line-height: 1; border-radius: 0.35em; vertical-align: middle; margin-left: 0.5rem\">TECH</span>\n",
       "</mark>\n",
       " Statistics or equivalent degree or experience. MS or PHD in Computer Science, specializing in Machine Learning is desirable.</br>Minimum 3 years of relevant experience with \n",
       "<mark class=\"entity\" style=\"background: #ddd; padding: 0.45em 0.6em; margin: 0 0.25em; line-height: 1; border-radius: 0.35em;\">\n",
       "    statistical\n",
       "    <span style=\"font-size: 0.8em; font-weight: bold; line-height: 1; border-radius: 0.35em; vertical-align: middle; margin-left: 0.5rem\">TECH</span>\n",
       "</mark>\n",
       " computing in \n",
       "<mark class=\"entity\" style=\"background: #ddd; padding: 0.45em 0.6em; margin: 0 0.25em; line-height: 1; border-radius: 0.35em;\">\n",
       "    R\n",
       "    <span style=\"font-size: 0.8em; font-weight: bold; line-height: 1; border-radius: 0.35em; vertical-align: middle; margin-left: 0.5rem\">TECH</span>\n",
       "</mark>\n",
       " or \n",
       "<mark class=\"entity\" style=\"background: #ddd; padding: 0.45em 0.6em; margin: 0 0.25em; line-height: 1; border-radius: 0.35em;\">\n",
       "    Python.\n",
       "    <span style=\"font-size: 0.8em; font-weight: bold; line-height: 1; border-radius: 0.35em; vertical-align: middle; margin-left: 0.5rem\">TECH</span>\n",
       "</mark>\n",
       " (Experience with modern R packages and technologies such as \n",
       "<mark class=\"entity\" style=\"background: #ddd; padding: 0.45em 0.6em; margin: 0 0.25em; line-height: 1; border-radius: 0.35em;\">\n",
       "    dplyr\n",
       "    <span style=\"font-size: 0.8em; font-weight: bold; line-height: 1; border-radius: 0.35em; vertical-align: middle; margin-left: 0.5rem\">TECH</span>\n",
       "</mark>\n",
       ", \n",
       "<mark class=\"entity\" style=\"background: #ddd; padding: 0.45em 0.6em; margin: 0 0.25em; line-height: 1; border-radius: 0.35em;\">\n",
       "    tidyR\n",
       "    <span style=\"font-size: 0.8em; font-weight: bold; line-height: 1; border-radius: 0.35em; vertical-align: middle; margin-left: 0.5rem\">TECH</span>\n",
       "</mark>\n",
       ", data.table, \n",
       "<mark class=\"entity\" style=\"background: #ddd; padding: 0.45em 0.6em; margin: 0 0.25em; line-height: 1; border-radius: 0.35em;\">\n",
       "    shinyR\n",
       "    <span style=\"font-size: 0.8em; font-weight: bold; line-height: 1; border-radius: 0.35em; vertical-align: middle; margin-left: 0.5rem\">TECH</span>\n",
       "</mark>\n",
       " preferred).</br>Minimum 3 years of experience with Machine Learning algorithms and Probabilistic Modelling.</br>Strong background in statistics, preferably Bayesian Statistics — experience with \n",
       "<mark class=\"entity\" style=\"background: #ddd; padding: 0.45em 0.6em; margin: 0 0.25em; line-height: 1; border-radius: 0.35em;\">\n",
       "    Bayesian\n",
       "    <span style=\"font-size: 0.8em; font-weight: bold; line-height: 1; border-radius: 0.35em; vertical-align: middle; margin-left: 0.5rem\">TECH</span>\n",
       "</mark>\n",
       " Inference using Statistical Languages for \n",
       "<mark class=\"entity\" style=\"background: #ddd; padding: 0.45em 0.6em; margin: 0 0.25em; line-height: 1; border-radius: 0.35em;\">\n",
       "    MCMC\n",
       "    <span style=\"font-size: 0.8em; font-weight: bold; line-height: 1; border-radius: 0.35em; vertical-align: middle; margin-left: 0.5rem\">TECH</span>\n",
       "</mark>\n",
       " such as \n",
       "<mark class=\"entity\" style=\"background: #ddd; padding: 0.45em 0.6em; margin: 0 0.25em; line-height: 1; border-radius: 0.35em;\">\n",
       "    Stan\n",
       "    <span style=\"font-size: 0.8em; font-weight: bold; line-height: 1; border-radius: 0.35em; vertical-align: middle; margin-left: 0.5rem\">TECH</span>\n",
       "</mark>\n",
       ", \n",
       "<mark class=\"entity\" style=\"background: #ddd; padding: 0.45em 0.6em; margin: 0 0.25em; line-height: 1; border-radius: 0.35em;\">\n",
       "    JAGS\n",
       "    <span style=\"font-size: 0.8em; font-weight: bold; line-height: 1; border-radius: 0.35em; vertical-align: middle; margin-left: 0.5rem\">TECH</span>\n",
       "</mark>\n",
       ", \n",
       "<mark class=\"entity\" style=\"background: #ddd; padding: 0.45em 0.6em; margin: 0 0.25em; line-height: 1; border-radius: 0.35em;\">\n",
       "    WinBugs\n",
       "    <span style=\"font-size: 0.8em; font-weight: bold; line-height: 1; border-radius: 0.35em; vertical-align: middle; margin-left: 0.5rem\">TECH</span>\n",
       "</mark>\n",
       " is a big plus.</br>Experience with \n",
       "<mark class=\"entity\" style=\"background: #ddd; padding: 0.45em 0.6em; margin: 0 0.25em; line-height: 1; border-radius: 0.35em;\">\n",
       "    SQL\n",
       "    <span style=\"font-size: 0.8em; font-weight: bold; line-height: 1; border-radius: 0.35em; vertical-align: middle; margin-left: 0.5rem\">TECH</span>\n",
       "</mark>\n",
       " and \n",
       "<mark class=\"entity\" style=\"background: #ddd; padding: 0.45em 0.6em; margin: 0 0.25em; line-height: 1; border-radius: 0.35em;\">\n",
       "    SQL\n",
       "    <span style=\"font-size: 0.8em; font-weight: bold; line-height: 1; border-radius: 0.35em; vertical-align: middle; margin-left: 0.5rem\">TECH</span>\n",
       "</mark>\n",
       " Server.</br>Experience with \n",
       "<mark class=\"entity\" style=\"background: #ddd; padding: 0.45em 0.6em; margin: 0 0.25em; line-height: 1; border-radius: 0.35em;\">\n",
       "    .NET\n",
       "    <span style=\"font-size: 0.8em; font-weight: bold; line-height: 1; border-radius: 0.35em; vertical-align: middle; margin-left: 0.5rem\">TECH</span>\n",
       "</mark>\n",
       " Framework and \n",
       "<mark class=\"entity\" style=\"background: #ddd; padding: 0.45em 0.6em; margin: 0 0.25em; line-height: 1; border-radius: 0.35em;\">\n",
       "    C\n",
       "    <span style=\"font-size: 0.8em; font-weight: bold; line-height: 1; border-radius: 0.35em; vertical-align: middle; margin-left: 0.5rem\">TECH</span>\n",
       "</mark>\n",
       "# is preferable.</br>Experience using cloud computing platforms such as \n",
       "<mark class=\"entity\" style=\"background: #ddd; padding: 0.45em 0.6em; margin: 0 0.25em; line-height: 1; border-radius: 0.35em;\">\n",
       "    EC2\n",
       "    <span style=\"font-size: 0.8em; font-weight: bold; line-height: 1; border-radius: 0.35em; vertical-align: middle; margin-left: 0.5rem\">TECH</span>\n",
       "</mark>\n",
       " (AWS).</br>Domain experience in on-line gaming and entertainment industry, Financial Markets (such as Stock Exchange, Options, Bonds, Forex, etc.), or other types of 2-sided markets.</br>Experience with \n",
       "<mark class=\"entity\" style=\"background: #ddd; padding: 0.45em 0.6em; margin: 0 0.25em; line-height: 1; border-radius: 0.35em;\">\n",
       "    Neural\n",
       "    <span style=\"font-size: 0.8em; font-weight: bold; line-height: 1; border-radius: 0.35em; vertical-align: middle; margin-left: 0.5rem\">TECH</span>\n",
       "</mark>\n",
       " Networks or \n",
       "<mark class=\"entity\" style=\"background: #ddd; padding: 0.45em 0.6em; margin: 0 0.25em; line-height: 1; border-radius: 0.35em;\">\n",
       "    Deep\n",
       "    <span style=\"font-size: 0.8em; font-weight: bold; line-height: 1; border-radius: 0.35em; vertical-align: middle; margin-left: 0.5rem\">TECH</span>\n",
       "</mark>\n",
       " Learning on large problems – a plus.</br>Experience with \n",
       "<mark class=\"entity\" style=\"background: #ddd; padding: 0.45em 0.6em; margin: 0 0.25em; line-height: 1; border-radius: 0.35em;\">\n",
       "    Hadoop\n",
       "    <span style=\"font-size: 0.8em; font-weight: bold; line-height: 1; border-radius: 0.35em; vertical-align: middle; margin-left: 0.5rem\">TECH</span>\n",
       "</mark>\n",
       ", \n",
       "<mark class=\"entity\" style=\"background: #ddd; padding: 0.45em 0.6em; margin: 0 0.25em; line-height: 1; border-radius: 0.35em;\">\n",
       "    Map\n",
       "    <span style=\"font-size: 0.8em; font-weight: bold; line-height: 1; border-radius: 0.35em; vertical-align: middle; margin-left: 0.5rem\">TECH</span>\n",
       "</mark>\n",
       " Reduce or High Performance Computing – a plus.</br>We offer:</br></br>An environment passionate about growth and learning</br>Competitive salary with bonus</br>Fitness subsidy program</br>Free beverages in the office</br>Workplace that is conveniently located along the Yonge/Sheppard line</br>What we are looking for:</br></br>This is a key role within the team and would suit someone who is passionate about working with data and building predictive models. We are looking for someone with strong background in statistics, modelling and algorithms (machine learning or other) and who has the ability to convey complex information through data visualization. Strong communication in both verbal and written is required. We are also looking for someone with strong analytical, conceptual, and problem-solving abilities with attention to detail, has ability to multi-task, and manage multiple assignments in a fast-paced environment. This individual must have initiative to work independently, but also able to work effectively with team members in different locations. Flexibility and adaptability to business requirements and priority changes a must. A thorough understanding and passion for sports and sports betting markets is ideal. Experience working with dual markets is a preferred. Experience with cloud computing as well as python a plus. Experience with development highly preferred.</br></br>The above is intended to describe the general nature and level of work being performed. They are not intended to be an exhaustive list of all responsibilities, duties and skills required. For a full description, please contact us directly.</br></br>Crescendo Technology thanks all candidates applying but only those selected for an interview will be contacted. Selected candidates may be asked to complete an on-line technical assessment.</br></br>Crescendo Technology is an equal opportunity employer, which values diversity in the workplace, and we encourage candidates. Should you require an accommodation for the recruitment or interview process, please do not hesitate to reach out to us.</br></div></span>"
      ],
      "text/plain": [
       "<IPython.core.display.HTML object>"
      ]
     },
     "metadata": {},
     "output_type": "display_data"
    },
    {
     "name": "stdout",
     "output_type": "stream",
     "text": [
      "Machine TECH\n",
      "Computational TECH\n",
      "statistical TECH\n",
      "R TECH\n",
      "Python. TECH\n",
      "dplyr TECH\n",
      "tidyR TECH\n",
      "shinyR TECH\n",
      "Bayesian TECH\n",
      "MCMC TECH\n",
      "Stan TECH\n",
      "JAGS TECH\n",
      "WinBugs TECH\n",
      "SQL TECH\n",
      "SQL TECH\n",
      ".NET TECH\n",
      "C TECH\n",
      "EC2 TECH\n",
      "Neural TECH\n",
      "Deep TECH\n",
      "Hadoop TECH\n",
      "Map TECH\n"
     ]
    }
   ],
   "source": [
    "# Process whole documents\n",
    "text = ('''We are looking for a Machine Learning Engineer who will be responsible for the development of algorithms, which will form the basis for our mathematical models to automate trading platforms for sports betting markets. The candidate must have a strong background in Machine Learning, Statistics and Algorithm Development experience.\n",
    "\n",
    "Our ideal candidate should have:\n",
    "\n",
    "Degree or Diploma in Computer Science, Software Engineering, Computational Statistics or equivalent degree or experience. MS or PHD in Computer Science, specializing in Machine Learning is desirable.\n",
    "Minimum 3 years of relevant experience with statistical computing in R or Python. (Experience with modern R packages and technologies such as dplyr, tidyR, data.table, shinyR preferred).\n",
    "Minimum 3 years of experience with Machine Learning algorithms and Probabilistic Modelling.\n",
    "Strong background in statistics, preferably Bayesian Statistics — experience with Bayesian Inference using Statistical Languages for MCMC such as Stan, JAGS, WinBugs is a big plus.\n",
    "Experience with SQL and SQL Server.\n",
    "Experience with .NET Framework and C# is preferable.\n",
    "Experience using cloud computing platforms such as EC2 (AWS).\n",
    "Domain experience in on-line gaming and entertainment industry, Financial Markets (such as Stock Exchange, Options, Bonds, Forex, etc.), or other types of 2-sided markets.\n",
    "Experience with Neural Networks or Deep Learning on large problems – a plus.\n",
    "Experience with Hadoop, Map Reduce or High Performance Computing – a plus.\n",
    "We offer:\n",
    "\n",
    "An environment passionate about growth and learning\n",
    "Competitive salary with bonus\n",
    "Fitness subsidy program\n",
    "Free beverages in the office\n",
    "Workplace that is conveniently located along the Yonge/Sheppard line\n",
    "What we are looking for:\n",
    "\n",
    "This is a key role within the team and would suit someone who is passionate about working with data and building predictive models. We are looking for someone with strong background in statistics, modelling and algorithms (machine learning or other) and who has the ability to convey complex information through data visualization. Strong communication in both verbal and written is required. We are also looking for someone with strong analytical, conceptual, and problem-solving abilities with attention to detail, has ability to multi-task, and manage multiple assignments in a fast-paced environment. This individual must have initiative to work independently, but also able to work effectively with team members in different locations. Flexibility and adaptability to business requirements and priority changes a must. A thorough understanding and passion for sports and sports betting markets is ideal. Experience working with dual markets is a preferred. Experience with cloud computing as well as python a plus. Experience with development highly preferred.\n",
    "\n",
    "The above is intended to describe the general nature and level of work being performed. They are not intended to be an exhaustive list of all responsibilities, duties and skills required. For a full description, please contact us directly.\n",
    "\n",
    "Crescendo Technology thanks all candidates applying but only those selected for an interview will be contacted. Selected candidates may be asked to complete an on-line technical assessment.\n",
    "\n",
    "Crescendo Technology is an equal opportunity employer, which values diversity in the workplace, and we encourage candidates. Should you require an accommodation for the recruitment or interview process, please do not hesitate to reach out to us.\n",
    "''')\n",
    "doc = nlp1(text)\n",
    "\n",
    "spacy.displacy.render(doc, style='ent', jupyter=True) # display in Jupyter\n",
    "\n",
    "# Analyze syntax\n",
    "# print('Noun phrases:', [chunk.text for chunk in doc.noun_chunks])\n",
    "# print('Verbs:', [token.lemma_ for token in doc if token.pos_ == “VERB”])\n",
    "# Find named entities, phrases and concepts\n",
    "for entity in doc.ents:\n",
    "    print(entity.text, entity.label_)"
   ]
  },
  {
   "cell_type": "code",
   "execution_count": null,
   "metadata": {},
   "outputs": [],
   "source": []
  }
 ],
 "metadata": {
  "colab": {
   "collapsed_sections": [],
   "include_colab_link": true,
   "name": "NERspacy.ipynb",
   "provenance": []
  },
  "kernelspec": {
   "display_name": "Python 3 (ipykernel)",
   "language": "python",
   "name": "python3"
  },
  "language_info": {
   "codemirror_mode": {
    "name": "ipython",
    "version": 3
   },
   "file_extension": ".py",
   "mimetype": "text/x-python",
   "name": "python",
   "nbconvert_exporter": "python",
   "pygments_lexer": "ipython3",
   "version": "3.8.11"
  }
 },
 "nbformat": 4,
 "nbformat_minor": 4
}
